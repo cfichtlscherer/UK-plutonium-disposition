{
 "cells": [
  {
   "cell_type": "markdown",
   "metadata": {
    "slideshow": {
     "slide_type": "slide"
    }
   },
   "source": [
    "# Estimating the U.K. Separated Plutonium Stockpile "
   ]
  },
  {
   "cell_type": "markdown",
   "metadata": {
    "slideshow": {
     "slide_type": "subslide"
    }
   },
   "source": [
    "Authors: Christopher Fichtlscherer, Friederike Frieß, Moritz Kütt\n",
    "\n",
    "Additional material for the publication __Assessing the PRISM Reactor as a Disposition Option for the British Plutonium Stockpile__ by Christopher Fichtlscherer, Friederike Frieß, Moritz Kütt (published in the Science & Global Security -\n",
    "The Technical Basis for Arms Control, Disarmament, and Nonproliferation Initiatives)\n"
   ]
  },
  {
   "cell_type": "markdown",
   "metadata": {
    "slideshow": {
     "slide_type": "skip"
    }
   },
   "source": [
    "___"
   ]
  },
  {
   "cell_type": "markdown",
   "metadata": {
    "slideshow": {
     "slide_type": "skip"
    }
   },
   "source": [
    "###### Python Packages "
   ]
  },
  {
   "cell_type": "code",
   "execution_count": 1,
   "metadata": {
    "slideshow": {
     "slide_type": "skip"
    }
   },
   "outputs": [],
   "source": [
    "import matplotlib.pyplot as plt\n",
    "import numpy as np\n",
    "import pylab as py\n",
    "import matplotlib.patches as mpatches\n",
    "import os"
   ]
  },
  {
   "cell_type": "markdown",
   "metadata": {},
   "source": [
    "###### Basics"
   ]
  },
  {
   "cell_type": "code",
   "execution_count": 2,
   "metadata": {},
   "outputs": [],
   "source": [
    "startyear = 1960\n",
    "endyear = 2100\n",
    "years = endyear - startyear + 1"
   ]
  },
  {
   "cell_type": "markdown",
   "metadata": {
    "slideshow": {
     "slide_type": "skip"
    }
   },
   "source": [
    "___"
   ]
  },
  {
   "cell_type": "markdown",
   "metadata": {},
   "source": [
    "## Introduction"
   ]
  },
  {
   "cell_type": "markdown",
   "metadata": {},
   "source": [
    "With a possible civilian breeder program in mind, the UK started to develop a reprocessing program in the 1960's.\n",
    "At the time, uranium resources where considered to be scarce compared to the needs for a large scale, world wide use of nuclear power.\n",
    "It was anticipated that the plutonium would be needed as startup fuel in fast reactors operating in a closed nuclear fuel cycle, where they would \"breed\" more plutonium.\n",
    "Later, uranium resource estimates were revised showing that much more uranium was available, and breeder programs in most countries were abandoned, often due to technical and economical difficulties.\n",
    "\n",
    "The first large reprocessing plant, called B205, was opend in 1964.\n",
    "The plant was specifically designed to reprocess spent fuel from UK's first generation of reactors was based on the MAGNOX design, named after the magnesium oxide cladding material for the metallic fuel.\n",
    "The first to start was the reactor in Calder Hall in 1956. Its early main purpose was weapons plutonium production.\n",
    "A total of 26 reactor blocks at 11 different sites were constructed during the 1960ies.\n",
    "It has been UK government policy that all MAGNOX fuel should be reprocessed.\n",
    "All of them are shutdown today, the longest remaining reactors were those at the Wylfa site.\n",
    "Even after plutonium demands disappeared, a reason frequently given in favor of reprocessing is that MAGNOX fuel corrodes quickly in water, hence long-term storage in spent fuel pools is unfeasible.\n",
    "Dry storage, however, would have been an option (https://royalsociety.org/~/media/Royal_Society_Content/policy/publications/1998/10168.pdf). \n",
    "According to recent estimates by the Nuclear Decomissioning Authority, the B205 plant will receive last fuel discharges from reactors in 2019 and stop operation in 2020, after the last fuel has been reprocessed (https://assets.publishing.service.gov.uk/government/uploads/system/uploads/attachment_data/file/695245/NDA_Business_Plan_2018_to_2021.pdf).\n",
    "\n",
    "UK's second generation of reactors, \"Advanced Gas-cooled reactors\" (AGR), came online starting in 1976, and several reactors of this type are operating until today.\n",
    "The reactors use oxide fuel, which can not be reprocessed at the B205 plant.\n",
    "To reprocess AGR fuel and with a prospective market of foreign oxide fuel to be reprocessed in the UK, the government decided in 1978 to build another reprocessing facility, THORP (\"Thermal Oxide Reprocessing Plant\").\n",
    "When THORP started operation in 1994, the operators had secured contracts to reprocess approx. 10,000 tons of spent fuel, more than half of that from foreign sources (http://fissilematerials.org/library/rr05.pdf).\n",
    "Parts of the AGR spent fuel have been reprocessed in the THORP reprocessing plant.\n",
    "From the beginning, the plant's operating figures lagged behind operators expecations and promises.\n",
    "In 2005, the plant suffered a massive leak leading to a nearly 3 year-long closure.\n",
    "It is currently planned to shutdown THORP in 2018 (https://assets.publishing.service.gov.uk/government/uploads/system/uploads/attachment_data/file/695245/NDA_Business_Plan_2018_to_2021.pdf).\n",
    "With the closure of the two big reprocessing facilities, there should be no addition of material to the UK stockpile after 2020.\n",
    "\n",
    "This document estimates the development of the stockpile, including the change of the isotopic composition over time due to decay.\n"
   ]
  },
  {
   "cell_type": "markdown",
   "metadata": {},
   "source": [
    "### Summary of calculation"
   ]
  },
  {
   "cell_type": "markdown",
   "metadata": {},
   "source": [
    "For the time prior 1996, it is assumed that only plutonium from reprocessing MAGNOX fuel is added to the UK owned stockpile.\n",
    "Plutonium arisings from British MAGNOX fuel until 1995 are listed in \\[David Albright, Frans Berkhout, and William Walker, Plutonium and Highly Enriched Uranium 1996 - World Inventories, Capabilities and Policies\\], Table C.1.\n",
    "                                                                                                              \n",
    "From 1996 onwards, the main source are the statements by the government as part of the INFCIRC 549 agreement. In recent years, the UK has taken over ownership for plutonium on British soil that was produced by reprocessing foreign spent fuel. \n",
    "\n",
    "To split the total number of british separated plutonium by reactor type, first the amount originating from ownership changes of formerly foreign plutonium was identified.\n",
    "Secondly, the plutonium resulting from spent MAGNOX fuel reprocessing was calculated based on throughput figures for the B205 plant.\n",
    "Lastly, remaining plutonium after substraction of swaps and the amount with MAGNOX origin is assumed to be plutonium resulting from reprocessing of AGR spent fuel."
   ]
  },
  {
   "cell_type": "markdown",
   "metadata": {
    "slideshow": {
     "slide_type": "skip"
    }
   },
   "source": [
    "___"
   ]
  },
  {
   "cell_type": "markdown",
   "metadata": {},
   "source": [
    "## Collecting Data from External Sources"
   ]
  },
  {
   "cell_type": "markdown",
   "metadata": {},
   "source": [
    "### Explicit values for Plutonium Production"
   ]
  },
  {
   "cell_type": "markdown",
   "metadata": {},
   "source": [
    "#### Until 1995"
   ]
  },
  {
   "cell_type": "markdown",
   "metadata": {},
   "source": [
    "For the years until 1995, \\[David Albright, Frans Berkhout, and William Walker, Plutonium and Highly Enriched\n",
    "Uranium 1996 - World Inventories, Capabilities and Policies\\] provides comprehensive data. Used here is the data provided in table C.1, pp. 479-480. According to the text, it is based on fuel discharge figures from sources, mean burnup values calculated by Albright et al. (p. 476) and plutonium production calculated by: \n",
    "\n",
    "\\begin{align*}\n",
    "pu_{tot}= 0.9235 B^{0.6946}\n",
    "\\end{align*}\n",
    "\n",
    "According to the caption of Table C.1 in the book, a 5% production loss is assumed. However, values can only be reproduced using different production losses: 5% for 1966-1974, 3% for 1976-1983, 2% for 1986-1995, 6% for 1965, 3.4% for 1975, 3.3% for 1984 and 2.4% for 1985. (In this case, all values are calculated with the equation above, not including other possible assumptions). For the following calculations, just the plutonium production as estimated in the table was used.\n",
    "\n",
    "Data is organized as a list of lists of the following type: `[<year>, <pu-production>, <avg-burnup>, <fuel-throughput>]`. Pu-production is in kg, avg-burnup in MWd/t, fuel-throughput in t."
   ]
  },
  {
   "cell_type": "code",
   "execution_count": 3,
   "metadata": {},
   "outputs": [],
   "source": [
    "albright205 = np.array([(1965, 141, 913, 173),\n",
    "               (1966, 417, 1436, 370),\n",
    "               (1967, 561, 1500, 483),\n",
    "               (1968, 944, 1909, 688),\n",
    "               (1969, 1331, 2000, 938),\n",
    "               (1970, 1847, 2391, 1150),\n",
    "               (1971, 1865, 2500, 1125),\n",
    "               (1972, 705, 2500, 425),\n",
    "               (1973, 930, 2950, 500),\n",
    "               (1974, 1341, 3000, 713),\n",
    "               (1975, 2117, 3407, 1013),\n",
    "               (1976, 1550, 3500, 725),\n",
    "               (1977, 2081, 3917, 900),\n",
    "               (1978, 2170, 4000, 925),\n",
    "               (1979, 1984, 4145, 825),\n",
    "               (1980, 2102, 4200, 866),\n",
    "               (1981, 2372, 4353, 953),\n",
    "               (1982, 2506, 4324, 1012),\n",
    "               (1983, 2525, 4225, 1036),\n",
    "               (1984, 1782, 3438, 846),\n",
    "               (1985, 1947, 3942, 833),\n",
    "               (1986, 1889, 3598, 858),\n",
    "               (1987, 1968, 4275, 794),\n",
    "               (1988, 2092, 4751, 783),\n",
    "               (1989, 2552, 4879, 938),\n",
    "               (1990, 2102, 4968, 763),\n",
    "               (1991, 1688, 4559, 651),\n",
    "               (1992, 1690, 4400, 667),\n",
    "               (1993, 2544, 4233, 1032),\n",
    "               (1994, 2314, 3988, 978),\n",
    "               (1995, 2136, 3975, 905)],\n",
    "                       dtype=[('year','i4'),\n",
    "                              ('pu-production', 'i4'),\n",
    "                              ('avg-burnup', 'i4'),\n",
    "                              ('fuel-throughput', 'i4')])"
   ]
  },
  {
   "cell_type": "markdown",
   "metadata": {},
   "source": [
    "Average Burnup for the years 1985-1995"
   ]
  },
  {
   "cell_type": "code",
   "execution_count": 4,
   "metadata": {},
   "outputs": [
    {
     "data": {
      "text/plain": [
       "4359.3"
      ]
     },
     "execution_count": 4,
     "metadata": {},
     "output_type": "execute_result"
    }
   ],
   "source": [
    "np.mean(albright205[-11:-1]['avg-burnup'])"
   ]
  },
  {
   "cell_type": "markdown",
   "metadata": {},
   "source": [
    "#### 1996 - 2015"
   ]
  },
  {
   "cell_type": "markdown",
   "metadata": {},
   "source": [
    "Since 1996, UK provides annual plutonium declarations in INFCIRC/549 Annex B.\n",
    "\n",
    "The data is stored (in tons) as it is given in the Annex B:\n",
    "- `repro`: Unirradiated separated plutonium in product stores at reprocessing plants\n",
    "- `fabrication`: Unirradiated separated plutonium in the course of manufacture or fabrication\n",
    "- `inmox`: Plutonium contained in unirradiated mixed oxide fuel elements\n",
    "- `elsewhere`: Unirradiated separated plutonium held elsewhere\n",
    "- `foreign`: Plutonium belonging to foreign bodies\n",
    "- `outside`: Plutonium held in locations in other countries \n",
    "- `intshipping`: Plutonium in international shipment"
   ]
  },
  {
   "cell_type": "code",
   "execution_count": 5,
   "metadata": {},
   "outputs": [],
   "source": [
    "infcirc549 = np.array([(1996, 52.1, 0.5, 2.2, 0, 3.8, 0.9, 0),\n",
    "                       (1997, 57.4, 0.5, 2.2, 0, 6.1, 0.9, 0),\n",
    "                       (1998, 66.1, 0.8, 2.2, 0, 10.2, 0.9, 0),\n",
    "                       (1999, 69.5, 0.8, 2.2, 0, 11.8, 0.9, 0),\n",
    "                       (2000, 75.1, 0.8, 2.2, 0, 16.6, 0.9, 0),\n",
    "                       (2001, 79.9, 0.8, 1.7, 0, 17.1, 0.9, 0),\n",
    "                       (2002, 86.5, 0.9, 1.9, 1.5, 20.9, 0.9, 0),\n",
    "                       (2003, 92.7, 1.0, 1.9, 0.6, 22.5, 0.9, 0),\n",
    "                       (2004, 98.8, 1.0, 1.9, 0.9, 25.9, 0.9, 0),\n",
    "                       (2005, 101.1, 1.2, 1.7, 1, 26.5, 0.9, 0),\n",
    "                       (2006, 102.9, 1.2, 1.9, 1, 26.5, 0.9, 0),\n",
    "                       (2007, 103.8, 1.3, 1.9, 1, 26.8, 0.9, 0),\n",
    "                       (2008, 104.7, 1.3, 1.9, 1.1, 27.0, 0.9, 0),\n",
    "                       (2009, 107.7, 1.3, 2.1, 0.9, 27.7, 0.9, 0),\n",
    "                       (2010, 110.3, 1.4, 2.1, 1.0, 27, 0.9, 0),\n",
    "                       (2011, 113.3, 1.2, 2.3, 1.4, 27.9, 0.9, 0),\n",
    "                       (2012, 116.1, 1.2, 1.9, 1.0, 23.8, 0.9, 0),\n",
    "                       (2013, 118.8, 0.8, 1.9, 1.5, 23.4, 0.9, 0),\n",
    "                       (2014, 122.1, 0.8, 1.9, 1.5, 23.0, 0, 0),\n",
    "                       (2015, 125.2, 0.8, 1.9, 1.5, 23.2, 0, 0),\n",
    "                       (2016, 129.3, 0.8, 1.9, 1.5, 23.2, 0, 0)],\n",
    "                     dtype=[('year','i4'),\n",
    "                            ('repro', 'f8'),\n",
    "                            ('fabrication', 'f8'),\n",
    "                            ('inmox', 'f8'),\n",
    "                            ('elsewhere', 'f8'),\n",
    "                            ('foreign', 'f8'),\n",
    "                            ('outside', 'f8'),\n",
    "                            ('intshipping', 'f8')])"
   ]
  },
  {
   "cell_type": "markdown",
   "metadata": {},
   "source": [
    "### Reprocessing Throughput"
   ]
  },
  {
   "cell_type": "markdown",
   "metadata": {},
   "source": [
    "Throughput figures for the B205 reprocessing plant were taken from a report by the non-governmental organization \"Cumbrians Opposed to a Radioactive Environment.\" (http://corecumbria.co.uk/wp/wp-content/uploads/2017/02/2017-OSPAR-Critique.pdf). For the concrete numbers, we are reading the numbers out of figure 2 in the report. THORP reprocessing figures come from the same figure.\n",
    "This has been done by converting the graphic to a SVG and extracting the path coordinates (proportionally scaled)."
   ]
  },
  {
   "cell_type": "markdown",
   "metadata": {},
   "source": [
    "#### SVG Path coordinates"
   ]
  },
  {
   "cell_type": "code",
   "execution_count": 6,
   "metadata": {},
   "outputs": [],
   "source": [
    "b205_path = np.array([39.17295,113.04831,\n",
    "                      6.265333,53.40393,\n",
    "                      6.265333,4.108,\n",
    "                      6.265333,3.28639,\n",
    "                      6.265334,-2.05399,\n",
    "                      6.265333,7.39439,\n",
    "                      6.265333,-22.59397,\n",
    "                      6.265333,0.82159,\n",
    "                      6.265333,-14.37798,\n",
    "                      6.265334,1.6432,\n",
    "                      6.265331,41.07995,\n",
    "                      6.35,-18.89678,\n",
    "                      6.26533,7.39439,\n",
    "                      6.26534,1.2324,\n",
    "                      6.26533,-1.2324,\n",
    "                      6.26533,11.91319,\n",
    "                      6.26534,-20.12918,\n",
    "                      6.26533,11.91319,\n",
    "                      6.26533,-4.5188])\n",
    "\n",
    "thorp_path = np.array([39.17295,187.40302,\n",
    "                       6.265333,-10.68079,\n",
    "                       6.265333,-18.48598,\n",
    "                       6.265333,16.43198,\n",
    "                       6.265334,-23.82637,\n",
    "                       6.265333,28.34517,\n",
    "                       6.265333,-20.12918,\n",
    "                       6.265333,12.73479,\n",
    "                       6.265333,-9.03759,\n",
    "                       6.265334,3.69719,\n",
    "                       6.265331,29.57757,\n",
    "                       6.35,2.46479,\n",
    "                       6.26533,-2.46479,\n",
    "                       6.26534,-3.6972,\n",
    "                       6.26533,-5.34039,\n",
    "                       6.26533,-6.98359,\n",
    "                       6.26534,-4.5188,\n",
    "                       6.26533,10.68079,\n",
    "                       6.26533,-6.16199])"
   ]
  },
  {
   "cell_type": "code",
   "execution_count": 7,
   "metadata": {},
   "outputs": [],
   "source": [
    "thorp_y = thorp_path[1::2]\n",
    "b205_y = b205_path[1::2]\n",
    "\n",
    "#cumulative sum to get absolute (not relative) coordinates\n",
    "thorp_y_sum = np.cumsum(thorp_y)\n",
    "b205_y_sum = np.cumsum(b205_y)"
   ]
  },
  {
   "cell_type": "markdown",
   "metadata": {},
   "source": [
    "For calibration we choose the coordinates of 1000 and 0 at the y-axis and read out the respective svg coordinates."
   ]
  },
  {
   "cell_type": "code",
   "execution_count": 8,
   "metadata": {},
   "outputs": [],
   "source": [
    "y = np.array([0, 1000])\n",
    "x = np.array([198.4946,198.4946-2*26.70196])\n",
    "\n",
    "m,b = np.polyfit(x, y, 1) \n"
   ]
  },
  {
   "cell_type": "markdown",
   "metadata": {},
   "source": [
    "#### Calculate actual Throughput values"
   ]
  },
  {
   "cell_type": "code",
   "execution_count": 9,
   "metadata": {},
   "outputs": [],
   "source": [
    "tpstart = 1995\n",
    "tpend = 2013\n",
    "b205throughput = np.zeros(tpend-tpstart+1, dtype=[('year', 'i4'),\n",
    "       ('value', 'i4')])\n",
    "b205throughput['year'] = range(tpstart, tpend + 1)\n",
    "for i in range(len(b205_y_sum)):\n",
    "    b205throughput['value'][i] = m * b205_y_sum[i] + b\n",
    "thorpthroughput = np.zeros(tpend-tpstart+1, dtype=[('year', 'i4'),\n",
    "       ('value', 'i4')])\n",
    "thorpthroughput['year'] = range(tpstart, tpend + 1)\n",
    "for i in range(len(thorp_y_sum)):\n",
    "    thorpthroughput['value'][i] = m * thorp_y_sum[i] + b"
   ]
  },
  {
   "cell_type": "code",
   "execution_count": 10,
   "metadata": {},
   "outputs": [
    {
     "data": {
      "text/plain": [
       "array([(1995, 1600), (1996,  600), (1997,  523), (1998,  461),\n",
       "       (1999,  500), (2000,  361), (2001,  784), (2002,  769),\n",
       "       (2003, 1038), (2004, 1007), (2005,  238), (2006,  592),\n",
       "       (2007,  453), (2008,  430), (2009,  453), (2010,  230),\n",
       "       (2011,  607), (2012,  384), (2013,  469)],\n",
       "      dtype=[('year', '<i4'), ('value', '<i4')])"
      ]
     },
     "execution_count": 10,
     "metadata": {},
     "output_type": "execute_result"
    }
   ],
   "source": [
    "b205throughput"
   ]
  },
  {
   "cell_type": "code",
   "execution_count": 11,
   "metadata": {},
   "outputs": [
    {
     "data": {
      "text/plain": [
       "11499"
      ]
     },
     "execution_count": 11,
     "metadata": {},
     "output_type": "execute_result"
    }
   ],
   "source": [
    "sum(b205throughput['value'])"
   ]
  },
  {
   "cell_type": "code",
   "execution_count": 12,
   "metadata": {},
   "outputs": [
    {
     "data": {
      "text/plain": [
       "array([(1995, 207), (1996, 407), (1997, 753), (1998, 446), (1999, 892),\n",
       "       (2000, 361), (2001, 738), (2002, 500), (2003, 669), (2004, 600),\n",
       "       (2005,  46), (2006,   0), (2007,  46), (2008, 115), (2009, 215),\n",
       "       (2010, 346), (2011, 430), (2012, 230), (2013, 346)],\n",
       "      dtype=[('year', '<i4'), ('value', '<i4')])"
      ]
     },
     "execution_count": 12,
     "metadata": {},
     "output_type": "execute_result"
    }
   ],
   "source": [
    "thorpthroughput"
   ]
  },
  {
   "cell_type": "code",
   "execution_count": 13,
   "metadata": {},
   "outputs": [
    {
     "data": {
      "text/plain": [
       "7347"
      ]
     },
     "execution_count": 13,
     "metadata": {},
     "output_type": "execute_result"
    }
   ],
   "source": [
    "sum(thorpthroughput['value'])"
   ]
  },
  {
   "cell_type": "markdown",
   "metadata": {},
   "source": [
    "----"
   ]
  },
  {
   "cell_type": "markdown",
   "metadata": {},
   "source": [
    "## Additional Assumptions\n"
   ]
  },
  {
   "cell_type": "markdown",
   "metadata": {},
   "source": [
    "To calculate the isotopics of the british plutonium stockpile, some additional assumptions are necessary.\n",
    "\n",
    "The THORP reprocessing plant is supposed to operate until November 2018 (e.g. http://corecumbria.co.uk/briefings/plans-to-bring-the-shutters-down-on-thorp/, https://www.gov.uk/government/uploads/system/uploads/attachment_data/file/671522/NDA_Draft_Business_Plan_2018_to_2021.pdf (p.16)). As operating figures are not known for the years 2014-2018, it is assumed that i will operate with the average throughput of 1995-2013. \n",
    "\n",
    "The B205 reprocessing plant is supposed to reprocess all MAGNOX fuel produced in the UK. Currently, no more fuel is produced as all reactors halted operation. In 2019, all fuel should be unloaded from reactors, and in 2020 reprocessing should be finished (https://www.gov.uk/government/uploads/system/uploads/attachment_data/file/671522/NDA_Draft_Business_Plan_2018_to_2021.pdf, p. 16). Including future productions at the time, in April 2012 3800 tU of MAGNOX fuel remained to be reprocessed (https://www.gov.uk/government/uploads/system/uploads/attachment_data/file/457808/The_Magnox_Operating_Programme__MOP9_.pdf p. 8). As operating figures are not known for the years 2014-2018, it is assumed that B205 will reprocess all remaining fuel in time. The remaining fuel at the beginning of 2014 is assumed to be 3800tU minus 3/4 of the 2012 throughput minus the 2013 throughput.\n",
    "\n",
    "MAGNOX plutonium production until 1995 (including) is taken from the book of Albright et al. For simplicity, it is assumed that no AGR plutonium is produced in that time.\n",
    "\n",
    "\n",
    "MAGNOX plutonium production for the following years is based on the B205 throughput figures and calculated through the equation as given by Albright (referenced there from other sources):\n",
    "\\begin{align*}\n",
    "pu_{tot}= 0.9235 B^{0.6946}\n",
    "\\end{align*}\n",
    "\n",
    "For the burnup, two cases are calculated. On for an average burnup of **4000 MWd/tHM**, a second for an average burnup of **5000 MWd/tHM**. There does not seem to be sufficient data publicly available to have more precise figures. The decision for the average burnup is informed by two sources. The values in the book from Albright et al., Table C.1, give an average of 4359 MWd/tHM for the years 1985-1995. The values in an IAEA report (https://www.iaea.org/About/Policy/GC/GC51/GC51InfDocuments/English/gc51inf-3-att5_en.pdf) give an average of ~4600 MWd/tHM for the years 1985-2005. Choosing a higher value takes into account possible improvements in reactor operations (as were visible over the operation history). Nevertheless, the 5000 MWd/tHM value is most likely on the upper end of what has been achieved in the remaining operation time.\n",
    "\n",
    "To match the UK plutonium declarations for 1996 (for end of year) with the end of year values for 1995 from (Albright 1997), it is assumed that at the beginning of 1996 the UK owned the plutonium it declared minus the MAGNOX plutonium value for 1996. The figures in (Albright 1997) are adjusted by a scalar so that the value for 1995 matches the beginning of 1996. Here, we assume 5000 MWd/tHM burnup for 1996.\n",
    "\n",
    "To calculate the plutonium reprocessed from AGR spent fuel, we use the INFCIRC 549 declarations. First, the known title swaps of plutonium are substracted (see table below). With these swaps, the UK gained ownership of plutonium from foreign spent fuel, which (very likely) has different isotopics from AGR spent fuel. After the substraction, the MAGNOX production values are substracted. The remaining value is assumed to be the plutonium produced through AGR reprocessing.\n",
    "\n",
    "With this approach, there are four years for which the calculated plutonium production from MAGNOX reactors is higher than the total declared increase in British plutonium stockpiles.\n",
    "This is probably due to processing times in the reprocessing plant.\n",
    "To accomodate for this fact, the missing plutonium is taken equally from the respecting two following years (equivalent to assuming that the declarations are delayed).\n"
   ]
  },
  {
   "cell_type": "markdown",
   "metadata": {},
   "source": [
    "## Calculating Plutonium Increments per Year"
   ]
  },
  {
   "cell_type": "markdown",
   "metadata": {},
   "source": [
    "### Extend Throughputs"
   ]
  },
  {
   "cell_type": "markdown",
   "metadata": {},
   "source": [
    "THORP throughput estimate is based on average throughput of 2014-2019. B205 throughput must be 3800 tU from April 2012 onwards (remaining MAGNOX fuel, as in https://www.gov.uk/government/uploads/system/uploads/attachment_data/file/457808/The_Magnox_Operating_Programme__MOP9_.pdf p. 8)."
   ]
  },
  {
   "cell_type": "code",
   "execution_count": 14,
   "metadata": {},
   "outputs": [],
   "source": [
    "thorpaverage = np.mean(thorpthroughput['value'])\n",
    "for y in range(2014, 2019): #2014-2018\n",
    "    thorpthroughput = np.append(thorpthroughput, np.array([(y, thorpaverage)], dtype=thorpthroughput.dtype))"
   ]
  },
  {
   "cell_type": "code",
   "execution_count": 15,
   "metadata": {},
   "outputs": [],
   "source": [
    "yearidx2012 = np.where(b205throughput['year'] == 2012)[0][0]\n",
    "yearidx2013 = np.where(b205throughput['year'] == 2013)[0][0]\n",
    "\n",
    "b205remaining = 3800 - b205throughput['value'][yearidx2012] * 0.75 - b205throughput['value'][yearidx2013]\n",
    "b205remaining = int(b205remaining)\n",
    "b205peryear = int(b205remaining / 7)\n",
    "for y in range(2014, 2021): #2014-2020\n",
    "    b205throughput = np.append(b205throughput, np.array([(y, b205peryear)], dtype=b205throughput.dtype))"
   ]
  },
  {
   "cell_type": "markdown",
   "metadata": {},
   "source": [
    "### Adjust Albright values for monotonous curve"
   ]
  },
  {
   "cell_type": "code",
   "execution_count": 16,
   "metadata": {},
   "outputs": [],
   "source": [
    "yearidx1 = np.where(infcirc549['year'] == 1996)[0][0]\n",
    "\n",
    "end1996t = infcirc549['repro'][yearidx1] \n",
    "end1996t += infcirc549['fabrication'][yearidx1] \n",
    "end1996t += infcirc549['inmox'][yearidx1] \n",
    "end1996t += infcirc549['elsewhere'][yearidx1]\n",
    "end1996t -= infcirc549['foreign'][yearidx1]\n",
    "\n",
    "puperton5000 = 0.9235 * ((5000/1000) ** 0.6946)\n",
    "puperton4000 = 0.9235 * ((4000/1000) ** 0.6946)\n",
    "yearidx2 = np.where(b205throughput['year'] == 1996)[0][0]\n",
    "b205in1996for5000 = b205throughput['value'][yearidx2] * puperton5000\n",
    "begin1996kg5000 = end1996t * 1000 - b205in1996for5000\n",
    "b205in1996for4000 = b205throughput['value'][yearidx2] * puperton4000\n",
    "begin1996kg4000 = end1996t * 1000 - b205in1996for4000\n",
    "                       \n",
    "adjustfactor5000 = begin1996kg5000/sum(albright205['pu-production']) \n",
    "adjustfactor4000 = begin1996kg4000/sum(albright205['pu-production']) "
   ]
  },
  {
   "cell_type": "markdown",
   "metadata": {},
   "source": [
    "#### B205 Production in 1996 (5000/4000 burnup)"
   ]
  },
  {
   "cell_type": "code",
   "execution_count": 17,
   "metadata": {},
   "outputs": [
    {
     "data": {
      "text/plain": [
       "(1694.6995540409466, 1451.3729349270782)"
      ]
     },
     "execution_count": 17,
     "metadata": {},
     "output_type": "execute_result"
    }
   ],
   "source": [
    "b205in1996for5000, b205in1996for4000"
   ]
  },
  {
   "cell_type": "markdown",
   "metadata": {},
   "source": [
    "#### End of 1996 according to INFCIRC 549 (in kg)"
   ]
  },
  {
   "cell_type": "code",
   "execution_count": 18,
   "metadata": {},
   "outputs": [
    {
     "data": {
      "text/plain": [
       "51000.00000000001"
      ]
     },
     "execution_count": 18,
     "metadata": {},
     "output_type": "execute_result"
    }
   ],
   "source": [
    "end1996t * 1000"
   ]
  },
  {
   "cell_type": "markdown",
   "metadata": {},
   "source": [
    "#### Begin of 1996 stockpile estimate (5000/4000 burnup)"
   ]
  },
  {
   "cell_type": "code",
   "execution_count": 19,
   "metadata": {},
   "outputs": [
    {
     "data": {
      "text/plain": [
       "(49305.30044595906, 49548.62706507293)"
      ]
     },
     "execution_count": 19,
     "metadata": {},
     "output_type": "execute_result"
    }
   ],
   "source": [
    "begin1996kg5000,begin1996kg4000"
   ]
  },
  {
   "cell_type": "markdown",
   "metadata": {},
   "source": [
    "#### Factor for Albright Data adjustment"
   ]
  },
  {
   "cell_type": "code",
   "execution_count": 20,
   "metadata": {},
   "outputs": [
    {
     "data": {
      "text/plain": [
       "(0.9098093932050091, 0.9142993941112861)"
      ]
     },
     "execution_count": 20,
     "metadata": {},
     "output_type": "execute_result"
    }
   ],
   "source": [
    "adjustfactor5000,adjustfactor4000"
   ]
  },
  {
   "cell_type": "markdown",
   "metadata": {},
   "source": [
    "### Convert 549 data (total stockpile) into list of yearly changes"
   ]
  },
  {
   "cell_type": "code",
   "execution_count": 21,
   "metadata": {},
   "outputs": [],
   "source": [
    "dif549kg = np.zeros(len(infcirc549), \n",
    "                     dtype=[('year','i4'),\n",
    "                     ('totpu', 'f8'),\n",
    "                     ('foreign', 'f8')])\n",
    "dif549kg['year'] = np.arange(1996, 1996 + len(infcirc549))\n",
    "y = 1996\n",
    "yearidx2 = np.where(infcirc549['year'] == y)[0][0]\n",
    "lastt = infcirc549['repro'][yearidx2]\n",
    "lastt += infcirc549['fabrication'][yearidx2]\n",
    "lastt += infcirc549['inmox'][yearidx2] \n",
    "lastt += infcirc549['elsewhere'][yearidx2]\n",
    "lastt -= infcirc549['foreign'][yearidx2]\n",
    "lastkg = lastt * 1000\n",
    "lastfkg = 0\n",
    "for y in range(1996, 1996 + len(infcirc549)):\n",
    "    yearidx1 = np.where(dif549kg['year'] == y)[0][0]\n",
    "    yearidx2 = np.where(infcirc549['year'] == y)[0][0]\n",
    "    thist = infcirc549['repro'][yearidx2] \n",
    "    thist += infcirc549['fabrication'][yearidx2] \n",
    "    thist += infcirc549['inmox'][yearidx2] \n",
    "    thist += infcirc549['elsewhere'][yearidx2]\n",
    "    thisft = infcirc549['foreign'][yearidx2]\n",
    "    thist -= thisft\n",
    "    dif549kg['totpu'][yearidx1] = thist * 1000 - lastkg\n",
    "    dif549kg['foreign'][yearidx1] = thisft * 1000 - lastfkg\n",
    "    lastkg = thist * 1000\n",
    "    lastfkg = thisft * 1000   "
   ]
  },
  {
   "cell_type": "markdown",
   "metadata": {},
   "source": [
    "### Make empty lists with years"
   ]
  },
  {
   "cell_type": "markdown",
   "metadata": {},
   "source": [
    "Two lists (differential and cumulative). Both have the following structure:\n",
    "\n",
    "\n",
    "| Column        | Content       |\n",
    "|---------------|---------------|\n",
    "| year          | year      |\n",
    "| magnox4000    | MAGNOX origin plutonium for a burnup of 4000 MWd/kgHM from 1996 onwards |\n",
    "| magnox5000 | MAGNOX origin plutonium for a burnup of 4000 MWd/kgHM from 1996 onwards |\n",
    "| agrfrom4000/agrfrom5000 | AGR, resulting from 4000/5000 MWd/kgHM MAGNOX burnup |\n",
    "| ukfromforeign | Previously foreign (title swap) |\n",
    "| foreign | Plutonium in UK owned by foreign countries |"
   ]
  },
  {
   "cell_type": "code",
   "execution_count": 22,
   "metadata": {},
   "outputs": [],
   "source": [
    "difsp = np.zeros(years, dtype=[('year','i4'),\n",
    "                               ('magnox5000', 'f8'),\n",
    "                               ('magnox4000', 'f8'),\n",
    "                               ('agrfrom5000', 'f8'),\n",
    "                               ('agrfrom4000', 'f8'),                          \n",
    "                               ('ukfromforeign', 'f8'),\n",
    "                               ('foreign', 'f8')])\n",
    "difsp['year'] = np.arange(startyear, endyear + 1)\n",
    "cumsp = np.zeros(years, dtype=[('year','i4'),\n",
    "                               ('magnox5000', 'f8'),\n",
    "                               ('magnox4000', 'f8'),\n",
    "                               ('agrfrom5000', 'f8'),\n",
    "                               ('agrfrom4000', 'f8'),\n",
    "                               ('ukfromforeign', 'f8'),\n",
    "                               ('foreign', 'f8')])\n",
    "cumsp['year'] = np.arange(startyear, endyear + 1)"
   ]
  },
  {
   "cell_type": "markdown",
   "metadata": {},
   "source": [
    "### Add MAGNOX column values"
   ]
  },
  {
   "cell_type": "markdown",
   "metadata": {},
   "source": [
    "Start with Albright et al. 1997 values"
   ]
  },
  {
   "cell_type": "code",
   "execution_count": 23,
   "metadata": {},
   "outputs": [],
   "source": [
    "for y in range(1965,1996): #1965 to 1995\n",
    "    yearidx1 = np.where(difsp['year'] == y)[0][0]\n",
    "    yearidx2 = np.where(albright205['year'] == y)[0][0]\n",
    "    difsp['magnox5000'][yearidx1] = albright205['pu-production'][yearidx2] * adjustfactor5000 \n",
    "    difsp['magnox4000'][yearidx1] = albright205['pu-production'][yearidx2] * adjustfactor4000 "
   ]
  },
  {
   "cell_type": "markdown",
   "metadata": {},
   "source": [
    "Add B205 values for 1996 onwards based on throughput (goes into the future using throughput predictions from above)"
   ]
  },
  {
   "cell_type": "code",
   "execution_count": 24,
   "metadata": {},
   "outputs": [],
   "source": [
    "puperton5000 = 0.9235 * ((5000/1000) ** 0.6946)\n",
    "puperton4000 = 0.9235 * ((4000/1000) ** 0.6946)\n",
    "\n",
    "for y in range(1996,2021): #1996 to 2020\n",
    "    yearidx1 = np.where(difsp['year'] == y)[0][0]\n",
    "    yearidx2 = np.where(b205throughput['year'] == y)[0][0]\n",
    "    difsp['magnox5000'][yearidx1] = b205throughput['value'][yearidx2] * puperton5000\n",
    "    difsp['magnox4000'][yearidx1] = b205throughput['value'][yearidx2] * puperton4000      "
   ]
  },
  {
   "cell_type": "markdown",
   "metadata": {},
   "source": [
    "Conversion Factor for 4 MWd/kgHM"
   ]
  },
  {
   "cell_type": "code",
   "execution_count": 25,
   "metadata": {},
   "outputs": [
    {
     "data": {
      "text/plain": [
       "2.4189548915451304"
      ]
     },
     "execution_count": 25,
     "metadata": {},
     "output_type": "execute_result"
    }
   ],
   "source": [
    "puperton4000"
   ]
  },
  {
   "cell_type": "markdown",
   "metadata": {},
   "source": [
    "Conversion Factor for 5 MWd/kgHM"
   ]
  },
  {
   "cell_type": "code",
   "execution_count": 26,
   "metadata": {},
   "outputs": [
    {
     "data": {
      "text/plain": [
       "2.824499256734911"
      ]
     },
     "execution_count": 26,
     "metadata": {},
     "output_type": "execute_result"
    }
   ],
   "source": [
    "puperton5000"
   ]
  },
  {
   "cell_type": "markdown",
   "metadata": {},
   "source": [
    "Consistency check - end of 1996 values should be identical to INCIRC549 declaration"
   ]
  },
  {
   "cell_type": "code",
   "execution_count": 27,
   "metadata": {},
   "outputs": [
    {
     "data": {
      "text/plain": [
       "(50999.99999999999, 51000.000000000015, 51000.00000000001)"
      ]
     },
     "execution_count": 27,
     "metadata": {},
     "output_type": "execute_result"
    }
   ],
   "source": [
    "yearidx1996 = np.where(difsp['year'] == 1996)[0][0]\n",
    "sum5000 = sum(difsp['magnox5000'][0:yearidx1996 + 1])\n",
    "sum4000 = sum(difsp['magnox4000'][0:yearidx1996 + 1])\n",
    "yearidx1996 = np.where(infcirc549['year'] == 1996)[0][0]\n",
    "lastt = infcirc549['repro'][yearidx1996]\n",
    "lastt += infcirc549['fabrication'][yearidx1996]\n",
    "lastt += infcirc549['inmox'][yearidx1996] \n",
    "lastt += infcirc549['elsewhere'][yearidx1996]\n",
    "lastt -= infcirc549['foreign'][yearidx1996]\n",
    "lastkg = lastt * 1000\n",
    "\n",
    "sum5000, sum4000, lastkg"
   ]
  },
  {
   "cell_type": "markdown",
   "metadata": {},
   "source": [
    "### Add Plutonium swaps to 'ukfromforeign' column"
   ]
  },
  {
   "cell_type": "markdown",
   "metadata": {},
   "source": [
    "2012: 4 tons of German plutonium become british (http://www.world-nuclear-news.org/WR-German_plutonium_to_stay_in_UK-1307127.html)"
   ]
  },
  {
   "cell_type": "code",
   "execution_count": 28,
   "metadata": {},
   "outputs": [],
   "source": [
    "yearidx1 = np.where(difsp['year'] == 2012)[0][0]\n",
    "difsp['ukfromforeign'][yearidx1] = 4000"
   ]
  },
  {
   "cell_type": "markdown",
   "metadata": {},
   "source": [
    "2013: 750kg German, 350kg Dutch plutonium becomes british (https://www.gov.uk/government/speeches/written-ministerial-statement-by-michael-fallon-management-of-overseas-owned-plutonium-in-the-uk)\n",
    "Also 1850kg plutonium \"allocated to repay french plutonium loans\" becomes UK owned. "
   ]
  },
  {
   "cell_type": "code",
   "execution_count": 29,
   "metadata": {},
   "outputs": [],
   "source": [
    "yearidx1 = np.where(difsp['year'] == 2013)[0][0]\n",
    "difsp['ukfromforeign'][yearidx1] = 650 + 350 + 1850"
   ]
  },
  {
   "cell_type": "markdown",
   "metadata": {},
   "source": [
    "2014: 800kg Swedish, 140kg German plutonium becomes British (http://fissilematerials.org/blog/2014/07/uk_decision_to_take_over_.html)"
   ]
  },
  {
   "cell_type": "code",
   "execution_count": 30,
   "metadata": {},
   "outputs": [],
   "source": [
    "yearidx1 = np.where(difsp['year'] == 2014)[0][0]\n",
    "difsp['ukfromforeign'][yearidx1] = 800 + 140"
   ]
  },
  {
   "cell_type": "markdown",
   "metadata": {},
   "source": [
    "2017: 600kg from Spain (http://www.parliament.uk/business/publications/written-questions-answers-statements/written-statement/Commons/2017-01-19/HCWS422/) (+5kg from germany, negligible)"
   ]
  },
  {
   "cell_type": "code",
   "execution_count": 31,
   "metadata": {},
   "outputs": [],
   "source": [
    "yearidx1 = np.where(difsp['year'] == 2017)[0][0]\n",
    "difsp['ukfromforeign'][yearidx1] = 600"
   ]
  },
  {
   "cell_type": "markdown",
   "metadata": {},
   "source": [
    "### Add AGR based on INFCIRC549"
   ]
  },
  {
   "cell_type": "markdown",
   "metadata": {},
   "source": [
    "Just add to other dataset (ignore negative values)"
   ]
  },
  {
   "cell_type": "code",
   "execution_count": 32,
   "metadata": {},
   "outputs": [],
   "source": [
    "for y in range(1997, 1996 + len(infcirc549)): #1997 to 2016\n",
    "    yearidx1 = np.where(difsp['year'] == y)[0][0]\n",
    "    yearidx2 = np.where(dif549kg['year'] == y)[0][0]\n",
    "    difsp['agrfrom5000'][yearidx1] = dif549kg['totpu'][yearidx2] - difsp['magnox5000'][yearidx1] - difsp['ukfromforeign'][yearidx1]\n",
    "    difsp['agrfrom4000'][yearidx1] = dif549kg['totpu'][yearidx2] - difsp['magnox4000'][yearidx1] - difsp['ukfromforeign'][yearidx1]"
   ]
  },
  {
   "cell_type": "markdown",
   "metadata": {},
   "source": [
    "This estimate yields negative values for AGR plutonium. This is probably due to processing times in the reprocessing plant. To correct for this, it is assumed that AGR plutonium production in that year is 0. As then there still would be more fuel than declared, the absolute of the negative value is substracted from the two following AGR production years at equal share (\"future loan\").\n",
    "\n"
   ]
  },
  {
   "cell_type": "code",
   "execution_count": 33,
   "metadata": {},
   "outputs": [
    {
     "name": "stdout",
     "output_type": "stream",
     "text": [
      "(2000, 40)\n",
      "(2007, 47)\n",
      "(2008, 48)\n",
      "(2013, 53)\n",
      "(2000, 40)\n",
      "(2007, 47)\n",
      "(2008, 48)\n",
      "(2013, 53)\n"
     ]
    }
   ],
   "source": [
    "for y in range(1996, 1996 + len(infcirc549)): #1996 to 2016\n",
    "    yearidx1 = np.where(difsp['year'] == y)[0][0]\n",
    "    if (difsp['agrfrom5000'][yearidx1] < 0):\n",
    "        print(y, yearidx1)\n",
    "        difsp['agrfrom5000'][yearidx1 + 1] -= abs(difsp['agrfrom5000'][yearidx1]) / 2\n",
    "        difsp['agrfrom5000'][yearidx1 + 2] -= abs(difsp['agrfrom5000'][yearidx1]) / 2\n",
    "        difsp['agrfrom5000'][yearidx1] = 0    \n",
    "for y in range(1996, 1996 + len(infcirc549)): #1996 to 2016\n",
    "    yearidx1 = np.where(difsp['year'] == y)[0][0]\n",
    "    if (difsp['agrfrom4000'][yearidx1] < 0):\n",
    "        print(y, yearidx1)\n",
    "        difsp['agrfrom4000'][yearidx1 + 1] -= abs(difsp['agrfrom4000'][yearidx1]) / 2\n",
    "        difsp['agrfrom4000'][yearidx1 + 2] -= abs(difsp['agrfrom4000'][yearidx1]) / 2\n",
    "        difsp['agrfrom4000'][yearidx1] = 0   "
   ]
  },
  {
   "cell_type": "markdown",
   "metadata": {},
   "source": [
    "### Add foreign based on INFCIRC549"
   ]
  },
  {
   "cell_type": "code",
   "execution_count": 34,
   "metadata": {},
   "outputs": [],
   "source": [
    "for y in range(1996, 1996 + len(infcirc549)): #1996 to 2016\n",
    "    yearidx1 = np.where(difsp['year'] == y)[0][0]\n",
    "    yearidx2 = np.where(dif549kg['year'] == y)[0][0]\n",
    "    difsp['foreign'][yearidx1] = dif549kg['foreign'][yearidx2]"
   ]
  },
  {
   "cell_type": "markdown",
   "metadata": {},
   "source": [
    "### Predict the Future for AGR"
   ]
  },
  {
   "cell_type": "code",
   "execution_count": 35,
   "metadata": {},
   "outputs": [
    {
     "name": "stdout",
     "output_type": "stream",
     "text": [
      "THORP Pu production from AGR fuel per t throughput (5MWd/kg case): 2.599118\n",
      "THORP Pu production from AGR fuel per t throughput (4MWd/kg case): 3.117216\n",
      "THORP Pu production from foreign fuel per t throughput: 3.734635\n"
     ]
    }
   ],
   "source": [
    "yearidx1996 = np.where(difsp['year'] == 1996)[0][0]\n",
    "yearidx2016 = np.where(difsp['year'] == 2016)[0][0]   \n",
    "totagr5000 = sum(difsp['agrfrom5000'][yearidx1996:yearidx2016+1])\n",
    "totagr4000 = sum(difsp['agrfrom4000'][yearidx1996:yearidx2016+1])\n",
    "totforeign = sum(difsp['foreign'][yearidx1996:yearidx2016+1])\n",
    "totforeign += sum(difsp['ukfromforeign'][yearidx1996:yearidx2016+1]) # has to be re-added (produced by THORP...)\n",
    "\n",
    "yearidx1996 = np.where(thorpthroughput['year'] == 1996)[0][0]\n",
    "yearidx2016 = np.where(thorpthroughput['year'] == 2016)[0][0]   \n",
    "totrepro = sum(thorpthroughput['value'][yearidx1996:yearidx2016+1])\n",
    "agr5000puperthm = totagr5000 / totrepro\n",
    "agr4000puperthm = totagr4000 / totrepro\n",
    "foreignpuperthm = totforeign / totrepro\n",
    "print(\"THORP Pu production from AGR fuel per t throughput (5MWd/kg case): {:f}\".format(agr5000puperthm))\n",
    "print(\"THORP Pu production from AGR fuel per t throughput (4MWd/kg case): {:f}\".format(agr4000puperthm))\n",
    "print(\"THORP Pu production from foreign fuel per t throughput: {:f}\".format(foreignpuperthm))"
   ]
  },
  {
   "cell_type": "code",
   "execution_count": 36,
   "metadata": {},
   "outputs": [],
   "source": [
    "for y in range(2017, 2019): # 2017 and 2018\n",
    "    yearidx1 = np.where(difsp['year'] == y)[0][0]\n",
    "    yearidx2 = np.where(thorpthroughput['year'] == y)[0][0]\n",
    "    difsp['agrfrom5000'][yearidx1] = agr5000puperthm * thorpthroughput['value'][yearidx2]\n",
    "    difsp['agrfrom4000'][yearidx1] = agr4000puperthm * thorpthroughput['value'][yearidx2]\n",
    "    difsp['foreign'][yearidx1] = foreignpuperthm * thorpthroughput['value'][yearidx2]"
   ]
  },
  {
   "cell_type": "markdown",
   "metadata": {},
   "source": [
    "### Build cumulative data"
   ]
  },
  {
   "cell_type": "code",
   "execution_count": 37,
   "metadata": {},
   "outputs": [],
   "source": [
    "cumsp['magnox5000'][0] = difsp['magnox5000'][0]\n",
    "cumsp['magnox4000'][0] = difsp['magnox4000'][0]\n",
    "cumsp['agrfrom5000'][0] = difsp['agrfrom5000'][0]\n",
    "cumsp['agrfrom4000'][0] = difsp['agrfrom4000'][0]\n",
    "cumsp['ukfromforeign'][0] = difsp['ukfromforeign'][0]\n",
    "cumsp['foreign'][0] = difsp['foreign'][0]\n",
    "\n",
    "for y in range(startyear + 1, endyear + 1):\n",
    "    yearidx = np.where(difsp['year'] == y)[0][0]\n",
    "    cumsp['magnox5000'][yearidx] = cumsp['magnox5000'][yearidx - 1] + difsp['magnox5000'][yearidx]\n",
    "    cumsp['magnox4000'][yearidx] = cumsp['magnox4000'][yearidx - 1] + difsp['magnox4000'][yearidx]\n",
    "    cumsp['agrfrom5000'][yearidx] = cumsp['agrfrom5000'][yearidx - 1] + difsp['agrfrom5000'][yearidx]\n",
    "    cumsp['agrfrom4000'][yearidx] = cumsp['agrfrom4000'][yearidx - 1] + difsp['agrfrom4000'][yearidx]\n",
    "    cumsp['ukfromforeign'][yearidx] = cumsp['ukfromforeign'][yearidx - 1] + difsp['ukfromforeign'][yearidx]\n",
    "    cumsp['foreign'][yearidx] = cumsp['foreign'][yearidx - 1] + difsp['foreign'][yearidx]    "
   ]
  },
  {
   "cell_type": "markdown",
   "metadata": {},
   "source": [
    "## Results Stockpiles (General)"
   ]
  },
  {
   "cell_type": "code",
   "execution_count": 38,
   "metadata": {},
   "outputs": [
    {
     "data": {
      "text/plain": [
       "array([(1960,     0.        ,     0.        ,     0.        ,     0.        ,    0.,     0.        ),\n",
       "       (1961,     0.        ,     0.        ,     0.        ,     0.        ,    0.,     0.        ),\n",
       "       (1962,     0.        ,     0.        ,     0.        ,     0.        ,    0.,     0.        ),\n",
       "       (1963,     0.        ,     0.        ,     0.        ,     0.        ,    0.,     0.        ),\n",
       "       (1964,     0.        ,     0.        ,     0.        ,     0.        ,    0.,     0.        ),\n",
       "       (1965,   128.28312444,   128.91621457,     0.        ,     0.        ,    0.,     0.        ),\n",
       "       (1966,   507.67364141,   510.17906191,     0.        ,     0.        ,    0.,     0.        ),\n",
       "       (1967,  1018.076711  ,  1023.10102201,     0.        ,     0.        ,    0.,     0.        ),\n",
       "       (1968,  1876.93677818,  1886.19965005,     0.        ,     0.        ,    0.,     0.        ),\n",
       "       (1969,  3087.89308054,  3103.13214361,     0.        ,     0.        ,    0.,     0.        ),\n",
       "       (1970,  4768.31102979,  4791.84312454,     0.        ,     0.        ,    0.,     0.        ),\n",
       "       (1971,  6465.10554811,  6497.01149455,     0.        ,     0.        ,    0.,     0.        ),\n",
       "       (1972,  7106.52117032,  7141.5925674 ,     0.        ,     0.        ,    0.,     0.        ),\n",
       "       (1973,  7952.643906  ,  7991.89100393,     0.        ,     0.        ,    0.,     0.        ),\n",
       "       (1974,  9172.69830229,  9217.96649143,     0.        ,     0.        ,    0.,     0.        ),\n",
       "       (1975, 11098.76478771, 11153.53830876,     0.        ,     0.        ,    0.,     0.        ),\n",
       "       (1976, 12508.96934718, 12570.70236964,     0.        ,     0.        ,    0.,     0.        ),\n",
       "       (1977, 14402.28269444, 14473.35940878,     0.        ,     0.        ,    0.,     0.        ),\n",
       "       (1978, 16376.56907769, 16457.389094  ,     0.        ,     0.        ,    0.,     0.        ),\n",
       "       (1979, 18181.63091381, 18271.35909192,     0.        ,     0.        ,    0.,     0.        ),\n",
       "       (1980, 20094.05025833, 20193.21641834,     0.        ,     0.        ,    0.,     0.        ),\n",
       "       (1981, 22252.11813901, 22361.93458117,     0.        ,     0.        ,    0.,     0.        ),\n",
       "       (1982, 24532.10047838, 24653.16886282,     0.        ,     0.        ,    0.,     0.        ),\n",
       "       (1983, 26829.36919622, 26961.77483295,     0.        ,     0.        ,    0.,     0.        ),\n",
       "       (1984, 28450.64953491, 28591.05635325,     0.        ,     0.        ,    0.,     0.        ),\n",
       "       (1985, 30222.04842348, 30371.19727359,     0.        ,     0.        ,    0.,     0.        ),\n",
       "       (1986, 31940.67836725, 32098.30882906,     0.        ,     0.        ,    0.,     0.        ),\n",
       "       (1987, 33731.18325308, 33897.65003668,     0.        ,     0.        ,    0.,     0.        ),\n",
       "       (1988, 35634.50450366, 35810.36436916,     0.        ,     0.        ,    0.,     0.        ),\n",
       "       (1989, 37956.33807512, 38143.65642293,     0.        ,     0.        ,    0.,     0.        ),\n",
       "       (1990, 39868.75741964, 40065.51374935,     0.        ,     0.        ,    0.,     0.        ),\n",
       "       (1991, 41404.51567537, 41608.85112661,     0.        ,     0.        ,    0.,     0.        ),\n",
       "       (1992, 42942.09354988, 43154.01710266,     0.        ,     0.        ,    0.,     0.        ),\n",
       "       (1993, 45256.6486462 , 45479.99476128,     0.        ,     0.        ,    0.,     0.        ),\n",
       "       (1994, 47361.94758207, 47595.68355925,     0.        ,     0.        ,    0.,     0.        ),\n",
       "       (1995, 49305.30044596, 49548.62706507,     0.        ,     0.        ,    0.,     0.        ),\n",
       "       (1996, 51000.        , 51000.        ,     0.        ,     0.        ,    0.,  3800.        ),\n",
       "       (1997, 52477.21311127, 52265.11340828,  1522.78688873,  1734.88659172,    0.,  6100.        ),\n",
       "       (1998, 53779.30726863, 53380.25161328,  5120.69273137,  5519.74838672,    0., 10200.        ),\n",
       "       (1999, 55191.55689699, 54589.72905905,  5508.44310301,  6110.27094095,    0., 11800.        ),\n",
       "       (2000, 56211.20112868, 55462.9717749 ,  5508.44310301,  6110.27094095,    0., 16600.        ),\n",
       "       (2001, 58425.60854596, 57359.43240987,  6984.21356988,  7977.18894805,    0., 17100.        ),\n",
       "       (2002, 60597.64847439, 59219.60872147,  9302.35152561, 10680.39127853,    0., 20900.        ),\n",
       "       (2003, 63529.47870288, 61730.48389889, 10170.52129712, 11969.51610111,    0., 22500.        ),\n",
       "       (2004, 66373.74945441, 64166.37147468, 10326.25054559, 12533.62852532,    0., 25900.        ),\n",
       "       (2005, 67045.98027751, 64742.08273887, 11454.01972249, 13757.91726113,    0., 26500.        ),\n",
       "       (2006, 68718.0838375 , 66174.10403466, 11781.9161625 , 14325.89596534,    0., 26500.        ),\n",
       "       (2007, 69997.5820008 , 67269.89060053, 11781.9161625 , 14325.89596534,    0., 26800.        ),\n",
       "       (2008, 71212.1166812 , 68310.0412039 , 11781.9161625 , 14325.89596534,    0., 27000.        ),\n",
       "       (2009, 72491.6148445 , 69405.82776977, 12160.52703653, 15113.19417338,    0., 27700.        ),\n",
       "       (2010, 73141.24967354, 69962.18739482, 14658.75032646, 17837.81260518,    0., 27000.        ),\n",
       "       (2011, 74855.72072238, 71430.49301399, 15444.27927762, 18869.50698601,    0., 27900.        ),\n",
       "       (2012, 75940.32843697, 72359.37169234, 16459.67156303, 20040.62830766, 4000., 23800.        ),\n",
       "       (2013, 77265.01858838, 73493.86153648, 16459.67156303, 20040.62830766, 6850., 23400.        ),\n",
       "       (2014, 78490.8512658 , 74543.68795941, 17506.4938099 , 21358.55696266, 7790., 23000.        ),\n",
       "       (2015, 79716.68394322, 75593.51438234, 18693.31605678, 22816.48561766, 7790., 23200.        ),\n",
       "       (2016, 80942.51662065, 76643.34080527, 21567.48337935, 25866.65919473, 7790., 23200.        ),\n",
       "       (2017, 82168.34929807, 77693.1672282 , 22570.74303041, 27069.90460919, 8390., 24641.56905278),\n",
       "       (2018, 83394.18197549, 78742.99365113, 23574.00268146, 28273.15002364, 8390., 26083.13810557),\n",
       "       (2019, 84620.01465292, 79792.82007406, 23574.00268146, 28273.15002364, 8390., 26083.13810557),\n",
       "       (2020, 85845.84733034, 80842.64649699, 23574.00268146, 28273.15002364, 8390., 26083.13810557),\n",
       "       (2021, 85845.84733034, 80842.64649699, 23574.00268146, 28273.15002364, 8390., 26083.13810557),\n",
       "       (2022, 85845.84733034, 80842.64649699, 23574.00268146, 28273.15002364, 8390., 26083.13810557),\n",
       "       (2023, 85845.84733034, 80842.64649699, 23574.00268146, 28273.15002364, 8390., 26083.13810557),\n",
       "       (2024, 85845.84733034, 80842.64649699, 23574.00268146, 28273.15002364, 8390., 26083.13810557),\n",
       "       (2025, 85845.84733034, 80842.64649699, 23574.00268146, 28273.15002364, 8390., 26083.13810557),\n",
       "       (2026, 85845.84733034, 80842.64649699, 23574.00268146, 28273.15002364, 8390., 26083.13810557),\n",
       "       (2027, 85845.84733034, 80842.64649699, 23574.00268146, 28273.15002364, 8390., 26083.13810557),\n",
       "       (2028, 85845.84733034, 80842.64649699, 23574.00268146, 28273.15002364, 8390., 26083.13810557),\n",
       "       (2029, 85845.84733034, 80842.64649699, 23574.00268146, 28273.15002364, 8390., 26083.13810557),\n",
       "       (2030, 85845.84733034, 80842.64649699, 23574.00268146, 28273.15002364, 8390., 26083.13810557),\n",
       "       (2031, 85845.84733034, 80842.64649699, 23574.00268146, 28273.15002364, 8390., 26083.13810557),\n",
       "       (2032, 85845.84733034, 80842.64649699, 23574.00268146, 28273.15002364, 8390., 26083.13810557),\n",
       "       (2033, 85845.84733034, 80842.64649699, 23574.00268146, 28273.15002364, 8390., 26083.13810557),\n",
       "       (2034, 85845.84733034, 80842.64649699, 23574.00268146, 28273.15002364, 8390., 26083.13810557),\n",
       "       (2035, 85845.84733034, 80842.64649699, 23574.00268146, 28273.15002364, 8390., 26083.13810557),\n",
       "       (2036, 85845.84733034, 80842.64649699, 23574.00268146, 28273.15002364, 8390., 26083.13810557),\n",
       "       (2037, 85845.84733034, 80842.64649699, 23574.00268146, 28273.15002364, 8390., 26083.13810557),\n",
       "       (2038, 85845.84733034, 80842.64649699, 23574.00268146, 28273.15002364, 8390., 26083.13810557),\n",
       "       (2039, 85845.84733034, 80842.64649699, 23574.00268146, 28273.15002364, 8390., 26083.13810557),\n",
       "       (2040, 85845.84733034, 80842.64649699, 23574.00268146, 28273.15002364, 8390., 26083.13810557),\n",
       "       (2041, 85845.84733034, 80842.64649699, 23574.00268146, 28273.15002364, 8390., 26083.13810557),\n",
       "       (2042, 85845.84733034, 80842.64649699, 23574.00268146, 28273.15002364, 8390., 26083.13810557),\n",
       "       (2043, 85845.84733034, 80842.64649699, 23574.00268146, 28273.15002364, 8390., 26083.13810557),\n",
       "       (2044, 85845.84733034, 80842.64649699, 23574.00268146, 28273.15002364, 8390., 26083.13810557),\n",
       "       (2045, 85845.84733034, 80842.64649699, 23574.00268146, 28273.15002364, 8390., 26083.13810557),\n",
       "       (2046, 85845.84733034, 80842.64649699, 23574.00268146, 28273.15002364, 8390., 26083.13810557),\n",
       "       (2047, 85845.84733034, 80842.64649699, 23574.00268146, 28273.15002364, 8390., 26083.13810557),\n",
       "       (2048, 85845.84733034, 80842.64649699, 23574.00268146, 28273.15002364, 8390., 26083.13810557),\n",
       "       (2049, 85845.84733034, 80842.64649699, 23574.00268146, 28273.15002364, 8390., 26083.13810557),\n",
       "       (2050, 85845.84733034, 80842.64649699, 23574.00268146, 28273.15002364, 8390., 26083.13810557),\n",
       "       (2051, 85845.84733034, 80842.64649699, 23574.00268146, 28273.15002364, 8390., 26083.13810557),\n",
       "       (2052, 85845.84733034, 80842.64649699, 23574.00268146, 28273.15002364, 8390., 26083.13810557),\n",
       "       (2053, 85845.84733034, 80842.64649699, 23574.00268146, 28273.15002364, 8390., 26083.13810557),\n",
       "       (2054, 85845.84733034, 80842.64649699, 23574.00268146, 28273.15002364, 8390., 26083.13810557),\n",
       "       (2055, 85845.84733034, 80842.64649699, 23574.00268146, 28273.15002364, 8390., 26083.13810557),\n",
       "       (2056, 85845.84733034, 80842.64649699, 23574.00268146, 28273.15002364, 8390., 26083.13810557),\n",
       "       (2057, 85845.84733034, 80842.64649699, 23574.00268146, 28273.15002364, 8390., 26083.13810557),\n",
       "       (2058, 85845.84733034, 80842.64649699, 23574.00268146, 28273.15002364, 8390., 26083.13810557),\n",
       "       (2059, 85845.84733034, 80842.64649699, 23574.00268146, 28273.15002364, 8390., 26083.13810557),\n",
       "       (2060, 85845.84733034, 80842.64649699, 23574.00268146, 28273.15002364, 8390., 26083.13810557),\n",
       "       (2061, 85845.84733034, 80842.64649699, 23574.00268146, 28273.15002364, 8390., 26083.13810557),\n",
       "       (2062, 85845.84733034, 80842.64649699, 23574.00268146, 28273.15002364, 8390., 26083.13810557),\n",
       "       (2063, 85845.84733034, 80842.64649699, 23574.00268146, 28273.15002364, 8390., 26083.13810557),\n",
       "       (2064, 85845.84733034, 80842.64649699, 23574.00268146, 28273.15002364, 8390., 26083.13810557),\n",
       "       (2065, 85845.84733034, 80842.64649699, 23574.00268146, 28273.15002364, 8390., 26083.13810557),\n",
       "       (2066, 85845.84733034, 80842.64649699, 23574.00268146, 28273.15002364, 8390., 26083.13810557),\n",
       "       (2067, 85845.84733034, 80842.64649699, 23574.00268146, 28273.15002364, 8390., 26083.13810557),\n",
       "       (2068, 85845.84733034, 80842.64649699, 23574.00268146, 28273.15002364, 8390., 26083.13810557),\n",
       "       (2069, 85845.84733034, 80842.64649699, 23574.00268146, 28273.15002364, 8390., 26083.13810557),\n",
       "       (2070, 85845.84733034, 80842.64649699, 23574.00268146, 28273.15002364, 8390., 26083.13810557),\n",
       "       (2071, 85845.84733034, 80842.64649699, 23574.00268146, 28273.15002364, 8390., 26083.13810557),\n",
       "       (2072, 85845.84733034, 80842.64649699, 23574.00268146, 28273.15002364, 8390., 26083.13810557),\n",
       "       (2073, 85845.84733034, 80842.64649699, 23574.00268146, 28273.15002364, 8390., 26083.13810557),\n",
       "       (2074, 85845.84733034, 80842.64649699, 23574.00268146, 28273.15002364, 8390., 26083.13810557),\n",
       "       (2075, 85845.84733034, 80842.64649699, 23574.00268146, 28273.15002364, 8390., 26083.13810557),\n",
       "       (2076, 85845.84733034, 80842.64649699, 23574.00268146, 28273.15002364, 8390., 26083.13810557),\n",
       "       (2077, 85845.84733034, 80842.64649699, 23574.00268146, 28273.15002364, 8390., 26083.13810557),\n",
       "       (2078, 85845.84733034, 80842.64649699, 23574.00268146, 28273.15002364, 8390., 26083.13810557),\n",
       "       (2079, 85845.84733034, 80842.64649699, 23574.00268146, 28273.15002364, 8390., 26083.13810557),\n",
       "       (2080, 85845.84733034, 80842.64649699, 23574.00268146, 28273.15002364, 8390., 26083.13810557),\n",
       "       (2081, 85845.84733034, 80842.64649699, 23574.00268146, 28273.15002364, 8390., 26083.13810557),\n",
       "       (2082, 85845.84733034, 80842.64649699, 23574.00268146, 28273.15002364, 8390., 26083.13810557),\n",
       "       (2083, 85845.84733034, 80842.64649699, 23574.00268146, 28273.15002364, 8390., 26083.13810557),\n",
       "       (2084, 85845.84733034, 80842.64649699, 23574.00268146, 28273.15002364, 8390., 26083.13810557),\n",
       "       (2085, 85845.84733034, 80842.64649699, 23574.00268146, 28273.15002364, 8390., 26083.13810557),\n",
       "       (2086, 85845.84733034, 80842.64649699, 23574.00268146, 28273.15002364, 8390., 26083.13810557),\n",
       "       (2087, 85845.84733034, 80842.64649699, 23574.00268146, 28273.15002364, 8390., 26083.13810557),\n",
       "       (2088, 85845.84733034, 80842.64649699, 23574.00268146, 28273.15002364, 8390., 26083.13810557),\n",
       "       (2089, 85845.84733034, 80842.64649699, 23574.00268146, 28273.15002364, 8390., 26083.13810557),\n",
       "       (2090, 85845.84733034, 80842.64649699, 23574.00268146, 28273.15002364, 8390., 26083.13810557),\n",
       "       (2091, 85845.84733034, 80842.64649699, 23574.00268146, 28273.15002364, 8390., 26083.13810557),\n",
       "       (2092, 85845.84733034, 80842.64649699, 23574.00268146, 28273.15002364, 8390., 26083.13810557),\n",
       "       (2093, 85845.84733034, 80842.64649699, 23574.00268146, 28273.15002364, 8390., 26083.13810557),\n",
       "       (2094, 85845.84733034, 80842.64649699, 23574.00268146, 28273.15002364, 8390., 26083.13810557),\n",
       "       (2095, 85845.84733034, 80842.64649699, 23574.00268146, 28273.15002364, 8390., 26083.13810557),\n",
       "       (2096, 85845.84733034, 80842.64649699, 23574.00268146, 28273.15002364, 8390., 26083.13810557),\n",
       "       (2097, 85845.84733034, 80842.64649699, 23574.00268146, 28273.15002364, 8390., 26083.13810557),\n",
       "       (2098, 85845.84733034, 80842.64649699, 23574.00268146, 28273.15002364, 8390., 26083.13810557),\n",
       "       (2099, 85845.84733034, 80842.64649699, 23574.00268146, 28273.15002364, 8390., 26083.13810557),\n",
       "       (2100, 85845.84733034, 80842.64649699, 23574.00268146, 28273.15002364, 8390., 26083.13810557)],\n",
       "      dtype=[('year', '<i4'), ('magnox5000', '<f8'), ('magnox4000', '<f8'), ('agrfrom5000', '<f8'), ('agrfrom4000', '<f8'), ('ukfromforeign', '<f8'), ('foreign', '<f8')])"
      ]
     },
     "execution_count": 38,
     "metadata": {},
     "output_type": "execute_result"
    }
   ],
   "source": [
    "cumsp"
   ]
  },
  {
   "cell_type": "markdown",
   "metadata": {},
   "source": [
    "Define common labels and colors"
   ]
  },
  {
   "cell_type": "code",
   "execution_count": 39,
   "metadata": {},
   "outputs": [],
   "source": [
    "prop_cycle = plt.rcParams['axes.prop_cycle']\n",
    "cyclecolors = prop_cycle.by_key()['color']\n",
    "\n",
    "labels = {\"magnox\": \"From spent MAGNOX fuel\", \n",
    "          \"mix\": \"Either from MAGNOX or AGR\",\n",
    "          \"agr\": \"From spent AGR fuel\", \n",
    "          \"swap\": \"Previously foreign owned (title swap)\", \n",
    "          \"foreign\": \"Foreign owned\"}\n",
    "colors = {\"magnox\": cyclecolors[0], \n",
    "          \"mix\": cyclecolors[1],\n",
    "          \"agr\": cyclecolors[2],\n",
    "          \"swap\": cyclecolors[3], \n",
    "          \"foreign\": cyclecolors[4]}"
   ]
  },
  {
   "cell_type": "markdown",
   "metadata": {},
   "source": [
    "### Different parts of UK plutonium stockpile (5000 MWd/tHM case)"
   ]
  },
  {
   "cell_type": "code",
   "execution_count": 40,
   "metadata": {},
   "outputs": [
    {
     "data": {
      "image/png": "[encoded data removed]",
      "text/plain": [
       "<Figure size 720x360 with 1 Axes>"
      ]
     },
     "metadata": {
      "needs_background": "light"
     },
     "output_type": "display_data"
    }
   ],
   "source": [
    "start = np.where(cumsp['year'] == 1960)[0][0]\n",
    "end = np.where(cumsp['year'] == 2025)[0][0]\n",
    "\n",
    "fig, ax = plt.subplots(figsize=(10,5))\n",
    "ax.stackplot(cumsp['year'][start:end], \n",
    "             cumsp['magnox5000'][start:end],\n",
    "             cumsp['agrfrom5000'][start:end],\n",
    "             cumsp['ukfromforeign'][start:end], \n",
    "             cumsp['foreign'][start:end],\n",
    "            labels = [labels['magnox'], labels['agr'], labels['swap'], labels['foreign']],\n",
    "            colors = [colors['magnox'], colors['agr'], colors['swap'], colors['foreign']])\n",
    "plt.title('Estimated Composition of the British Plutonium Stockpile')\n",
    "plt.grid(b=True, which='both', color='0.5',linestyle='-')\n",
    "plt.xlabel('Year')\n",
    "plt.ylabel('Separated Plutonium / t')\n",
    "plt.axvline(x=2020, color='black', linestyle=':')\n",
    "handles, llabels = ax.get_legend_handles_labels()\n",
    "ax.legend(handles[::-1], llabels[::-1],loc=2)\n",
    "plt.yticks([2e4, 4e4, 6e4, 8e4, 10e4, 12e4, 14e4], [20, 40, 60, 80, 100, 120, 140])\n",
    "#plt.legend(loc=2)\n",
    "plt.savefig(\"ukpu_stacked_5000.pdf\")\n",
    "plt.show()"
   ]
  },
  {
   "cell_type": "code",
   "execution_count": 41,
   "metadata": {
    "scrolled": true
   },
   "outputs": [
    {
     "data": {
      "image/png": "[encoded data removed]",
      "text/plain": [
       "<Figure size 720x360 with 1 Axes>"
      ]
     },
     "metadata": {
      "needs_background": "light"
     },
     "output_type": "display_data"
    }
   ],
   "source": [
    "start = np.where(cumsp['year'] == 1960)[0][0]\n",
    "end = np.where(cumsp['year'] == 2025)[0][0]\n",
    "\n",
    "fig, ax = plt.subplots(figsize=(10,5))\n",
    "ax.bar(cumsp['year'][start:end], cumsp['magnox5000'][start:end], label=labels['magnox'], color=colors['magnox'])\n",
    "bottom = np.zeros(end - start) + cumsp['magnox5000'][start:end]\n",
    "ax.bar(cumsp['year'][start:end], cumsp['agrfrom5000'][start:end], bottom=bottom, label=labels['agr'], color=colors['agr'])\n",
    "bottom += cumsp['agrfrom5000'][start:end]\n",
    "ax.bar(cumsp['year'][start:end], cumsp['ukfromforeign'][start:end], bottom=bottom, label=labels['swap'], color=colors['swap'])\n",
    "bottom += cumsp['ukfromforeign'][start:end]\n",
    "ax.bar(cumsp['year'][start:end], cumsp['foreign'][start:end], bottom=bottom, label=labels['foreign'], color=colors['foreign'])\n",
    "\n",
    "plt.title('Estimated Composition of the British Plutonium Stockpile')\n",
    "plt.grid(b=True, which='both', color='0.5',linestyle='-')\n",
    "plt.xlabel('Year')\n",
    "plt.ylabel('Separated Plutonium / t')\n",
    "plt.axvline(x=2020, color='black', linestyle=':')\n",
    "handles, llabels = ax.get_legend_handles_labels()\n",
    "ax.legend(handles[::-1], llabels[::-1],loc=2)\n",
    "plt.yticks([0, 2e4, 4e4, 6e4, 8e4, 10e4, 12e4, 14e4], [0, 20, 40, 60, 80, 100, 120, 140])\n",
    "#plt.legend(loc=2)\n",
    "plt.savefig(\"ukpu_stacked_bar_5000.pdf\")\n",
    "plt.show()"
   ]
  },
  {
   "cell_type": "markdown",
   "metadata": {},
   "source": [
    "#### Plot in Grayscale - FIGURE 1 in journal article"
   ]
  },
  {
   "cell_type": "code",
   "execution_count": 42,
   "metadata": {},
   "outputs": [
    {
     "data": {
      "image/png": "[encoded data removed]",
      "text/plain": [
       "<Figure size 648x432 with 1 Axes>"
      ]
     },
     "metadata": {
      "needs_background": "light"
     },
     "output_type": "display_data"
    }
   ],
   "source": [
    "start = np.where(cumsp['year'] == 1960)[0][0]\n",
    "end = np.where(cumsp['year'] == 2031)[0][0]\n",
    "\n",
    "\n",
    "fig, ax = plt.subplots(figsize=(9,6))\n",
    "\n",
    "ax.bar(cumsp['year'][start:end], cumsp['magnox5000'][start:end], label=labels['magnox'], color=\"0\")\n",
    "bottom = np.zeros(end - start) + cumsp['magnox5000'][start:end]\n",
    "\n",
    "ax.bar(cumsp['year'][start:end], cumsp['agrfrom5000'][start:end], bottom=bottom, label=labels['agr'], color=\"0.3\")\n",
    "bottom += cumsp['agrfrom5000'][start:end]\n",
    "\n",
    "ax.bar(cumsp['year'][start:end], cumsp['ukfromforeign'][start:end], bottom=bottom, label=labels['swap'], color=\"0.6\")\n",
    "bottom += cumsp['ukfromforeign'][start:end]\n",
    "\n",
    "ax.bar(cumsp['year'][start:end], cumsp['foreign'][start:end], bottom=bottom, label=labels['foreign'], color=\"0.8\")\n",
    "\n",
    "#plt.title('Estimated Composition of the British Plutonium Stockpile')\n",
    "plt.grid(b=True, which='both', color='0.9',linestyle='-')\n",
    "#plt.xlabel('Year')\n",
    "#plt.ylabel('Separated Plutonium / t')\n",
    "plt.axvline(x=2020, color='black', linestyle=':')\n",
    "\n",
    "#plt.axvline(x=2050, color='black', linestyle='') # only for creating space for labeling\n",
    "\n",
    "handles, llabels = ax.get_legend_handles_labels()\n",
    "#ax.legend(handles[::-1], llabels[::-1],loc=2)\n",
    "plt.yticks([0, 2e4, 4e4, 6e4, 8e4, 10e4, 12e4, 14e4], [0, 20, 40, 60, 80, 100, 120, 140])\n",
    "#plt.legend(loc=2)\n",
    "plt.savefig(\"ukpu_stacked_bar_5000_gray.svg\")\n",
    "plt.show()"
   ]
  },
  {
   "cell_type": "markdown",
   "metadata": {},
   "source": [
    "(Figure has been manually edited for publication - legend, font for axis)"
   ]
  },
  {
   "cell_type": "markdown",
   "metadata": {},
   "source": [
    "#### Different parts of UK plutonium stockpile (4000 MWd/tHM case)"
   ]
  },
  {
   "cell_type": "code",
   "execution_count": 43,
   "metadata": {},
   "outputs": [
    {
     "data": {
      "image/png": "[encoded data removed]",
      "text/plain": [
       "<Figure size 720x360 with 1 Axes>"
      ]
     },
     "metadata": {
      "needs_background": "light"
     },
     "output_type": "display_data"
    }
   ],
   "source": [
    "start = np.where(cumsp['year'] == 1960)[0][0]\n",
    "end = np.where(cumsp['year'] == 2025)[0][0]\n",
    "\n",
    "fig, ax = plt.subplots(figsize=(10,5))\n",
    "ax.stackplot(cumsp['year'][start:end], \n",
    "             cumsp['magnox4000'][start:end],\n",
    "             cumsp['agrfrom4000'][start:end],\n",
    "             cumsp['ukfromforeign'][start:end], \n",
    "             cumsp['foreign'][start:end],\n",
    "            labels = [labels['magnox'], labels['agr'], labels['swap'], labels['foreign']],\n",
    "            colors = [colors['magnox'], colors['agr'], colors['swap'], colors['foreign']])\n",
    "plt.title('Estimated Composition of the British Plutonium Stockpile')\n",
    "plt.grid(b=True, which='both', color='0.5',linestyle='-')\n",
    "plt.xlabel('Year')\n",
    "plt.ylabel('Separated Plutonium / t')\n",
    "plt.axvline(x=2020, color='black', linestyle=':')\n",
    "handles, llabels = ax.get_legend_handles_labels()\n",
    "ax.legend(handles[::-1], llabels[::-1],loc=2)\n",
    "plt.yticks([2e4, 4e4, 6e4, 8e4, 10e4, 12e4, 14e4], [20, 40, 60, 80, 100, 120, 140])\n",
    "#plt.legend(loc=2)\n",
    "plt.savefig(\"ukpu_stacked_4000.pdf\")\n",
    "plt.show()"
   ]
  },
  {
   "cell_type": "code",
   "execution_count": 44,
   "metadata": {},
   "outputs": [
    {
     "data": {
      "image/png": "[encoded data removed]",
      "text/plain": [
       "<Figure size 720x360 with 1 Axes>"
      ]
     },
     "metadata": {
      "needs_background": "light"
     },
     "output_type": "display_data"
    }
   ],
   "source": [
    "start = np.where(cumsp['year'] == 1960)[0][0]\n",
    "end = np.where(cumsp['year'] == 2025)[0][0]\n",
    "\n",
    "fig, ax = plt.subplots(figsize=(10,5))\n",
    "ax.bar(cumsp['year'][start:end], cumsp['magnox4000'][start:end], label=labels['magnox'], color=colors['magnox'])\n",
    "bottom = np.zeros(end - start) + cumsp['magnox4000'][start:end]\n",
    "ax.bar(cumsp['year'][start:end], cumsp['agrfrom4000'][start:end], bottom=bottom, label=labels['agr'], color=colors['agr'])\n",
    "bottom += cumsp['agrfrom4000'][start:end]\n",
    "ax.bar(cumsp['year'][start:end], cumsp['ukfromforeign'][start:end], bottom=bottom, label=labels['swap'], color=colors['swap'])\n",
    "bottom += cumsp['ukfromforeign'][start:end]\n",
    "ax.bar(cumsp['year'][start:end], cumsp['foreign'][start:end], bottom=bottom, label=labels['foreign'], color=colors['foreign'])\n",
    "\n",
    "plt.title('Estimated Composition of the British Plutonium Stockpile')\n",
    "plt.grid(b=True, which='both', color='0.5',linestyle='-')\n",
    "plt.xlabel('Year')\n",
    "plt.ylabel('Separated Plutonium / t')\n",
    "plt.axvline(x=2020, color='black', linestyle=':')\n",
    "handles, llabels = ax.get_legend_handles_labels()\n",
    "ax.legend(handles[::-1], llabels[::-1],loc=2)\n",
    "plt.yticks([0, 2e4, 4e4, 6e4, 8e4, 10e4, 12e4, 14e4], [0, 20, 40, 60, 80, 100, 120, 140])\n",
    "#plt.legend(loc=2)\n",
    "plt.savefig(\"ukpu_stacked_bar_4000.pdf\")\n",
    "plt.show()"
   ]
  },
  {
   "cell_type": "markdown",
   "metadata": {},
   "source": [
    "### Different parts of UK plutonium stockpile (4000 / 5000 combined)"
   ]
  },
  {
   "cell_type": "markdown",
   "metadata": {},
   "source": [
    "Calculate helper values for stacked plot (difference between 4000 / 5000 MWd/tHM case)"
   ]
  },
  {
   "cell_type": "code",
   "execution_count": 45,
   "metadata": {},
   "outputs": [],
   "source": [
    "helper = []\n",
    "for y in range(startyear + 1, endyear + 1):\n",
    "    yearidx = np.where(cumsp['year'] == y)[0][0]\n",
    "    helper.append(cumsp['magnox5000'][yearidx] - cumsp['magnox4000'][yearidx])"
   ]
  },
  {
   "cell_type": "markdown",
   "metadata": {},
   "source": [
    "Plot"
   ]
  },
  {
   "cell_type": "code",
   "execution_count": 46,
   "metadata": {},
   "outputs": [
    {
     "data": {
      "image/png": "[encoded data removed]",
      "text/plain": [
       "<Figure size 720x360 with 1 Axes>"
      ]
     },
     "metadata": {
      "needs_background": "light"
     },
     "output_type": "display_data"
    }
   ],
   "source": [
    "start = np.where(cumsp['year'] == 1960)[0][0]\n",
    "end = np.where(cumsp['year'] == 2025)[0][0]\n",
    "\n",
    "prop_cycle = plt.rcParams['axes.prop_cycle']\n",
    "colors = prop_cycle.by_key()['color']\n",
    "\n",
    "fig, ax = plt.subplots(figsize=(10,5))\n",
    "ax.stackplot(cumsp['year'][start:end], \n",
    "             cumsp['magnox4000'][start:end],\n",
    "             helper[start:end],\n",
    "             cumsp['agrfrom5000'][start:end],\n",
    "             #cumsp['agrfrom4000'][start:end], \n",
    "             cumsp['ukfromforeign'][start:end], \n",
    "             cumsp['foreign'][start:end],\n",
    "            labels = [\"from spent MAGNOX fuel\", \n",
    "                      \"either from MAGNOX or AGR\", \n",
    "                      \"from spent AGR fuel\", \n",
    "                      \"previously foreign (title swap)\", \n",
    "                      \"foreign owned\"],\n",
    "            colors=[colors[0], colors[1], colors[2], colors[3], colors[4]])\n",
    "plt.title('The Composition of the British Plutonium Stockpile')\n",
    "plt.grid(b=True, which='both', color='0.5',linestyle='-')\n",
    "plt.xlabel('time / y')\n",
    "plt.ylabel('separated Pu / kg')\n",
    "plt.axvline(x=2020, color='black', linestyle=':')\n",
    "handles, labels = ax.get_legend_handles_labels()\n",
    "ax.legend(handles[::-1], labels[::-1],loc=2)\n",
    "#plt.legend(loc=2)\n",
    "plt.savefig(\"ukpu_stacked_combined.pdf\")\n",
    "plt.show()\n"
   ]
  },
  {
   "cell_type": "markdown",
   "metadata": {},
   "source": [
    "### Total Amount of the British Separated Plutonium Stockpile"
   ]
  },
  {
   "cell_type": "code",
   "execution_count": 47,
   "metadata": {
    "slideshow": {
     "slide_type": "subslide"
    }
   },
   "outputs": [
    {
     "data": {
      "image/png": "[encoded data removed]",
      "text/plain": [
       "<Figure size 432x288 with 1 Axes>"
      ]
     },
     "metadata": {
      "needs_background": "light"
     },
     "output_type": "display_data"
    }
   ],
   "source": [
    "time = list(range(1960,2101))\n",
    "pu_total_5000 = list(range(1960,2101))\n",
    "pu_total_4000 = list(range(1960,2101))\n",
    "\n",
    "for i in list(range(141)):\n",
    "    pu_total_5000[i] = cumsp['magnox5000'][i] + cumsp['agrfrom5000'][i] + cumsp['ukfromforeign'][i] + cumsp['foreign'][i]\n",
    "    pu_total_4000[i] = cumsp['magnox4000'][i] + cumsp['agrfrom4000'][i] + cumsp['ukfromforeign'][i] + cumsp['foreign'][i]\n",
    "\n",
    "time1 = time[0:55]\n",
    "pu_total_5000_1 = pu_total_5000[0:55]     \n",
    "pu_total_4000_1 = pu_total_4000[0:55]     \n",
    "\n",
    "time2 = time[55:61]\n",
    "pu_total_5000_2 = pu_total_5000[55:61]     \n",
    "pu_total_4000_2 = pu_total_4000[55:61]     \n",
    "\n",
    "time3 = time[61:70]\n",
    "pu_total_5000_3 = pu_total_5000[61:70]     \n",
    "pu_total_4000_3 = pu_total_4000[61:70]     \n",
    "\n",
    "time4 = time[5:35]\n",
    "pu_albright = 30*[0]\n",
    "\n",
    "for i in list(range(30)):\n",
    "    pu_albright[i] = pu_albright[i-1] + albright205[i][1]\n",
    "    \n",
    "plt.title('British Stockpile of Seperated Plutonium')\n",
    "plt.grid(b=True, which='both', color='0.65',linestyle='-')\n",
    "plt.plot(time1, pu_total_4000_1, '-', color='red')\n",
    "plt.plot(time2, pu_total_4000_2, '--', color='red')\n",
    "plt.plot(time3, pu_total_4000_3, ':', color='red')\n",
    "plt.plot(time1, pu_total_5000_1, '-', color='blue')\n",
    "plt.plot(time2, pu_total_5000_2, '--', color='blue')\n",
    "plt.plot(time3, pu_total_5000_3, ':', color='blue')\n",
    "\n",
    "plt.plot(time4, pu_albright, '--', color='darkorange')\n",
    "plt.xlabel('year [a]')\n",
    "plt.ylabel('separated pu [kg]')\n",
    "blue_patch = mpatches.Patch(color='blue', label='our assumption (5000 MWd/tHM)')\n",
    "red_patch = mpatches.Patch(color='red', label='our assumption (4000 MWd/tHM)')\n",
    "orange_patch = mpatches.Patch(color='darkorange', label='albright')\n",
    "\n",
    "plt.legend(handles=[blue_patch, red_patch, orange_patch], loc=2)\n",
    "plt.show()"
   ]
  },
  {
   "cell_type": "code",
   "execution_count": 48,
   "metadata": {},
   "outputs": [
    {
     "name": "stdout",
     "output_type": "stream",
     "text": [
      "(2020, 85845.84733034, 80842.64649699, 23574.00268146, 28273.15002364, 8390., 26083.13810557)\n",
      "(2030, 85845.84733034, 80842.64649699, 23574.00268146, 28273.15002364, 8390., 26083.13810557)\n"
     ]
    }
   ],
   "source": [
    "idx = np.where(cumsp['year'] == 2020)[0][0]\n",
    "print(cumsp[idx])\n",
    "idx = np.where(cumsp['year'] == 2030)[0][0]\n",
    "print(cumsp[idx])\n"
   ]
  },
  {
   "cell_type": "markdown",
   "metadata": {},
   "source": [
    "==================================================================================================================="
   ]
  },
  {
   "cell_type": "markdown",
   "metadata": {
    "slideshow": {
     "slide_type": "slide"
    }
   },
   "source": [
    "## Calculating Plutonium Isotopics\n",
    "This section works only when PyNE is available. PyNE (http://www.pyne.io) is a Python Toolkit for Nuclear Engineering. "
   ]
  },
  {
   "cell_type": "code",
   "execution_count": 54,
   "metadata": {},
   "outputs": [
    {
     "name": "stdout",
     "output_type": "stream",
     "text": [
      "\n"
     ]
    }
   ],
   "source": [
    "import warnings\n",
    "from pyne.utils import QAWarning\n",
    "warnings.filterwarnings(\"ignore\", category=QAWarning)\n",
    "\n",
    "from pyne import nucname\n",
    "from pyne.material import Material\n",
    "from pyne.transmute.chainsolve import Transmuter"
   ]
  },
  {
   "cell_type": "markdown",
   "metadata": {},
   "source": [
    "Calculations take a while, so it is nice to have a progressbar. This is one from https://gist.github.com/minrk/2211026"
   ]
  },
  {
   "cell_type": "code",
   "execution_count": 55,
   "metadata": {},
   "outputs": [],
   "source": [
    "import sys, time\n",
    "try:\n",
    "    from IPython.core.display import clear_output\n",
    "    have_ipython = True\n",
    "except ImportError:\n",
    "    have_ipython = False\n",
    "\n",
    "class ProgressBar:\n",
    "    def __init__(self, iterations):\n",
    "        self.iterations = iterations\n",
    "        self.prog_bar = '[]'\n",
    "        self.fill_char = '*'\n",
    "        self.width = 40\n",
    "        self.__update_amount(0)\n",
    "        if have_ipython:\n",
    "            self.animate = self.animate_ipython\n",
    "        else:\n",
    "            self.animate = self.animate_noipython\n",
    "\n",
    "    def animate_ipython(self, iter):\n",
    "        try:\n",
    "            clear_output()\n",
    "        except Exception:\n",
    "            # terminal IPython has no clear_output\n",
    "            pass\n",
    "        print '\\r', self,\n",
    "        sys.stdout.flush()\n",
    "        self.update_iteration(iter + 1)\n",
    "\n",
    "    def update_iteration(self, elapsed_iter):\n",
    "        self.__update_amount((elapsed_iter / float(self.iterations)) * 100.0)\n",
    "        self.prog_bar += '  %d of %s complete' % (elapsed_iter, self.iterations)\n",
    "\n",
    "    def __update_amount(self, new_amount):\n",
    "        percent_done = int(round((new_amount / 100.0) * 100.0))\n",
    "        all_full = self.width - 2\n",
    "        num_hashes = int(round((percent_done / 100.0) * all_full))\n",
    "        self.prog_bar = '[' + self.fill_char * num_hashes + ' ' * (all_full - num_hashes) + ']'\n",
    "        pct_place = (len(self.prog_bar) / 2) - len(str(percent_done))\n",
    "        pct_string = '%d%%' % percent_done\n",
    "        self.prog_bar = self.prog_bar[0:pct_place] + \\\n",
    "            (pct_string + self.prog_bar[pct_place + len(pct_string):])\n",
    "\n",
    "    def __str__(self):\n",
    "        return str(self.prog_bar)\n",
    "\n"
   ]
  },
  {
   "cell_type": "code",
   "execution_count": 56,
   "metadata": {},
   "outputs": [],
   "source": [
    "# Isotopic Vectors\n",
    "# Different isotopic vectors of plutonium\n",
    "# (ordered as 94238, 94239, 94240, 94241, 94242, 95241)\n",
    "\n",
    "# Isotopelist\n",
    "isotopes   = ['942380', '942390', '942400', '942410', '942420', '952410']\n",
    "# From NATO paper / World Nuclear Association\n",
    "magnox3000 = [0.1, 80,   16.9, 2.7, 0.3, 0]\n",
    "magnox5000 = [0,   68.5, 25,   5.3, 1.2, 0]\n",
    "agr        = [0.6, 53.7, 30.8, 9.9, 5,   0]"
   ]
  },
  {
   "cell_type": "markdown",
   "metadata": {},
   "source": [
    "Isotopic Vector for 4 MWD/kgHM case linearly interpolated."
   ]
  },
  {
   "cell_type": "code",
   "execution_count": 57,
   "metadata": {},
   "outputs": [
    {
     "data": {
      "text/plain": [
       "[0.05, 74.25, 20.95, 4.0, 0.75, 0]"
      ]
     },
     "execution_count": 57,
     "metadata": {},
     "output_type": "execute_result"
    }
   ],
   "source": [
    "magnox4000 = []\n",
    "for i in range(len(magnox3000)):\n",
    "    magnox4000.append((magnox3000[i] + magnox5000[i])/2)\n",
    "magnox4000"
   ]
  },
  {
   "cell_type": "code",
   "execution_count": 58,
   "metadata": {},
   "outputs": [
    {
     "name": "stdout",
     "output_type": "stream",
     "text": [
      "[*****************99%******************]  140 of 141 complete\n"
     ]
    }
   ],
   "source": [
    "startmat = Material({isotope: magnox5000[isotopeidx] for isotopeidx, isotope in enumerate(isotopes)})\n",
    "magnoxmaterials = {startyear: startmat}\n",
    "magnoxmaterials[startyear].mass = difsp['magnox5000'][0]\n",
    "magnoxmaterials4000 = {startyear: startmat}\n",
    "magnoxmaterials4000[startyear].mass = difsp['magnox4000'][0]\n",
    "\n",
    "p = ProgressBar(years)    \n",
    "for y in range(startyear + 1, endyear + 1):\n",
    "    p.animate(y - startyear)\n",
    "    yearidx = np.where(difsp['year'] == y)[0][0] #same index as cumsp\n",
    "    if(y in albright205['year']):\n",
    "        yearidx2 = np.where(albright205['year'] == y)[0][0]\n",
    "        if albright205['avg-burnup'][yearidx2] > 4000:\n",
    "            puvec = magnox5000\n",
    "        else:\n",
    "            puvec = magnox3000\n",
    "        puvec4000 = puvec\n",
    "    else:\n",
    "        puvec = magnox5000\n",
    "        puvec4000 = magnox4000\n",
    "        \n",
    "    t = 365 * 24 * 3600 # one year in seconds\n",
    "    premass = magnoxmaterials[y-1].mass\n",
    "    totmass = difsp['magnox5000'][yearidx] + premass\n",
    "    premass4000 = magnoxmaterials4000[y-1].mass\n",
    "    totmass4000 = difsp['magnox4000'][yearidx] + premass4000\n",
    "    mat = magnoxmaterials[y - 1]\n",
    "    mat4000 = magnoxmaterials4000[y - 1]\n",
    "    if premass != 0:\n",
    "        tm = Transmuter(phi=0, tol=1e-7)\n",
    "        premat = tm.transmute(mat, t)\n",
    "        del tm\n",
    "    else: \n",
    "        premat = mat\n",
    "    if premass4000 != 0:\n",
    "        tm = Transmuter(phi=0, tol=1e-7)\n",
    "        premat4000 = tm.transmute(mat4000, t)\n",
    "        del tm\n",
    "    else: \n",
    "        premat4000 = mat4000    \n",
    "    if totmass != 0:\n",
    "        newmat = Material({isotope: puvec[isotopeidx] for isotopeidx, isotope in enumerate(isotopes)})\n",
    "        newmat.mass = difsp['magnox5000'][yearidx]\n",
    "        magnoxmaterials[y] = premat + newmat\n",
    "    else:\n",
    "        magnoxmaterials[y] = premat\n",
    "    if totmass4000 != 0:\n",
    "        newmat4000 = Material({isotope: puvec4000[isotopeidx] for isotopeidx, isotope in enumerate(isotopes)})\n",
    "        newmat4000.mass = difsp['magnox4000'][yearidx]\n",
    "        magnoxmaterials4000[y] = premat4000 + newmat4000\n",
    "    else:\n",
    "        magnoxmaterials4000[y] = premat4000    \n",
    "            "
   ]
  },
  {
   "cell_type": "code",
   "execution_count": 60,
   "metadata": {},
   "outputs": [
    {
     "name": "stdout",
     "output_type": "stream",
     "text": [
      "Material:\n",
      "mass = 85841.3442193\n",
      "density = -1.0\n",
      "atoms per molecule = -1.0\n",
      "-------------------------\n",
      "U234   9.66802167872e-05\n",
      "U235   0.000767651091603\n",
      "U236   0.000834302577038\n",
      "Np237  0.00130787489072\n",
      "Pu238  0.000199141295459\n",
      "Pu239  0.718465990935\n",
      "Pu240  0.225068342594\n",
      "Pu241  0.010431323429\n",
      "Pu242  0.00932269215141\n",
      "Am241  0.033506000819\n",
      "(85841.39316144233, 85841.34421925948, 5.701466512933507e-07)\n"
     ]
    }
   ],
   "source": [
    "magnox2030=magnoxmaterials[2030]\n",
    "for i in magnox2030:\n",
    "    if magnox2030[i]/magnox2030.mass < 1e-5:\n",
    "        magnox2030=magnox2030.del_mat([i])\n",
    "print(magnox2030)\n",
    "print(magnoxmaterials[2030].mass, magnox2030.mass, (magnoxmaterials[2030].mass - magnox2030.mass)/magnoxmaterials[2030].mass)"
   ]
  },
  {
   "cell_type": "code",
   "execution_count": 61,
   "metadata": {},
   "outputs": [
    {
     "name": "stdout",
     "output_type": "stream",
     "text": [
      "Material:\n",
      "mass = 80838.3980791\n",
      "density = -1.0\n",
      "atoms per molecule = -1.0\n",
      "-------------------------\n",
      "U234   0.000134506859906\n",
      "U235   0.000803787189477\n",
      "U236   0.000812975084748\n",
      "Np237  0.00126888246733\n",
      "Pu238  0.000374194021165\n",
      "Pu239  0.742985132516\n",
      "Pu240  0.207794212004\n",
      "Pu241  0.00813057770748\n",
      "Pu242  0.00740100266918\n",
      "Am241  0.0302947294808\n"
     ]
    }
   ],
   "source": [
    "magnox2030_4000=magnoxmaterials4000[2030]\n",
    "for i in magnox2030_4000:\n",
    "    if magnox2030_4000[i]/magnox2030_4000.mass < 1e-5:\n",
    "        magnox2030_4000=magnox2030_4000.del_mat([i])\n",
    "print(magnox2030_4000)"
   ]
  },
  {
   "cell_type": "code",
   "execution_count": 62,
   "metadata": {},
   "outputs": [
    {
     "name": "stdout",
     "output_type": "stream",
     "text": [
      "[*****************99%******************]  140 of 141 complete\n"
     ]
    }
   ],
   "source": [
    "startmat = Material({isotope: agr[isotopeidx] for isotopeidx, isotope in enumerate(isotopes)})\n",
    "agrmaterials = {startyear: startmat}\n",
    "agrmaterials[startyear].mass = difsp['agrfrom5000'][0]\n",
    "agrmaterials4000 = {startyear: startmat}\n",
    "agrmaterials4000[startyear].mass = difsp['agrfrom4000'][0]\n",
    "\n",
    "p = ProgressBar(years)    \n",
    "for y in range(startyear + 1, endyear + 1):\n",
    "    p.animate(y - startyear)\n",
    "    yearidx = np.where(difsp['year'] == y)[0][0] #same index as cumsp\n",
    "    puvec = agr\n",
    "        \n",
    "    t = 365 * 24 * 3600 # one year in seconds\n",
    "    premass = agrmaterials[y-1].mass\n",
    "    totmass = difsp['agrfrom5000'][yearidx] + premass\n",
    "    premass4000 = agrmaterials4000[y-1].mass\n",
    "    totmass4000 = difsp['agrfrom4000'][yearidx] + premass4000\n",
    "    mat = agrmaterials[y - 1]\n",
    "    mat4000 = agrmaterials4000[y - 1]\n",
    "    if premass != 0:\n",
    "        tm = Transmuter(phi=0, tol=1e-7)\n",
    "        premat = tm.transmute(mat, t)\n",
    "        del tm\n",
    "    else: \n",
    "        premat = mat\n",
    "    if premass4000 != 0:\n",
    "        tm = Transmuter(phi=0, tol=1e-7)\n",
    "        premat4000 = tm.transmute(mat4000, t)\n",
    "        del tm\n",
    "    else: \n",
    "        premat4000 = mat4000    \n",
    "    if totmass != 0:\n",
    "        newmat = Material({isotope: puvec[isotopeidx] for isotopeidx, isotope in enumerate(isotopes)})\n",
    "        newmat.mass = difsp['agrfrom5000'][yearidx]\n",
    "        agrmaterials[y] = premat + newmat\n",
    "    else:\n",
    "        agrmaterials[y] = premat\n",
    "    if totmass4000 != 0:\n",
    "        newmat4000 = Material({isotope: puvec[isotopeidx] for isotopeidx, isotope in enumerate(isotopes)})\n",
    "        newmat4000.mass = difsp['agrfrom4000'][yearidx]\n",
    "        agrmaterials4000[y] = premat4000 + newmat4000\n",
    "    else:\n",
    "        agrmaterials4000[y] = premat4000    "
   ]
  },
  {
   "cell_type": "code",
   "execution_count": 63,
   "metadata": {
    "scrolled": true
   },
   "outputs": [
    {
     "name": "stdout",
     "output_type": "stream",
     "text": [
      "Material:\n",
      "mass = 23572.5127479\n",
      "density = -1.0\n",
      "atoms per molecule = -1.0\n",
      "-------------------------\n",
      "U234   0.000967618171442\n",
      "U235   0.00034714636782\n",
      "U236   0.000731015613885\n",
      "Np237  0.00145428700846\n",
      "Pu238  0.00501615192876\n",
      "Pu239  0.536680875531\n",
      "Pu240  0.307276038397\n",
      "Pu241  0.0347930815234\n",
      "Pu242  0.0500010460275\n",
      "Am241  0.0627327394311\n",
      "(23572.56262512676, 23572.5127479394, 2.115900089185428e-06)\n"
     ]
    }
   ],
   "source": [
    "agr2030=agrmaterials[2030]\n",
    "for i in agr2030:\n",
    "    if agr2030[i]/agr2030.mass < 1e-5:\n",
    "        agr2030=agr2030.del_mat([i])\n",
    "print(agr2030)\n",
    "print(agrmaterials[2030].mass, agr2030.mass, (agrmaterials[2030].mass - agr2030.mass)/agrmaterials[2030].mass)"
   ]
  },
  {
   "cell_type": "code",
   "execution_count": 64,
   "metadata": {},
   "outputs": [],
   "source": [
    "if not os.path.exists('stockpilematerials'):\n",
    "    os.mkdir('stockpilematerials')\n",
    "for year in magnoxmaterials:\n",
    "    magnoxmaterials[year].write_text('stockpilematerials/magnox-{:04d}.txt'.format(year))\n",
    "for year in magnoxmaterials4000:\n",
    "    magnoxmaterials4000[year].write_text('stockpilematerials/magnox4000-{:04d}.txt'.format(year))\n",
    "for year in agrmaterials:\n",
    "    agrmaterials[year].write_text('stockpilematerials/agr-{:04d}.txt'.format(year))\n",
    "for year in agrmaterials4000:\n",
    "    agrmaterials4000[year].write_text('stockpilematerials/agr4000-{:04d}.txt'.format(year))    "
   ]
  },
  {
   "cell_type": "markdown",
   "metadata": {},
   "source": [
    "## Output Isotope Data"
   ]
  },
  {
   "cell_type": "code",
   "execution_count": 65,
   "metadata": {},
   "outputs": [
    {
     "data": {
      "image/png": "[encoded data removed]",
      "text/plain": [
       "<Figure size 432x288 with 1 Axes>"
      ]
     },
     "metadata": {
      "needs_background": "light"
     },
     "output_type": "display_data"
    }
   ],
   "source": [
    "start = 1960\n",
    "end = 2100\n",
    "\n",
    "for iso in isotopes:\n",
    "    isolist = []\n",
    "    for j in range(start, end + 1):\n",
    "        if(magnoxmaterials[j].mass == 0):\n",
    "            isolist.append(0)\n",
    "        else:\n",
    "            isolist.append(magnoxmaterials[j][iso] / magnoxmaterials[j].mass * 100)\n",
    "    plt.semilogy(range(start, end + 1), isolist, label=iso)\n",
    "plt.legend(ncol=3, loc=4)\n",
    "plt.grid()\n",
    "plt.xlabel(\"Year\")\n",
    "plt.ylim(1e-3,1e2)\n",
    "plt.ylabel(\"Mass Fraction (in %)\")\n",
    "plt.savefig(\"magnoxvector.pdf\")\n",
    "plt.show()"
   ]
  },
  {
   "cell_type": "code",
   "execution_count": 66,
   "metadata": {},
   "outputs": [
    {
     "data": {
      "image/png": "[encoded data removed]",
      "text/plain": [
       "<Figure size 432x288 with 1 Axes>"
      ]
     },
     "metadata": {
      "needs_background": "light"
     },
     "output_type": "display_data"
    }
   ],
   "source": [
    "start = 1960\n",
    "end = 2100\n",
    "\n",
    "for iso in isotopes:\n",
    "    isolist = []\n",
    "    for j in range(start, end + 1):\n",
    "        if(agrmaterials[j].mass == 0):\n",
    "            isolist.append(0)\n",
    "        else:\n",
    "            isolist.append(agrmaterials[j][iso] / agrmaterials[j].mass * 100)\n",
    "    plt.semilogy(range(start, end + 1), isolist, label=iso)\n",
    "plt.legend(ncol=3, loc=4)\n",
    "plt.grid()\n",
    "plt.xlabel(\"Year\")\n",
    "plt.ylabel(\"Mass Fraction (in %)\")\n",
    "plt.ylim(1e-2, 1e2)\n",
    "plt.savefig(\"agrvector.pdf\")\n",
    "plt.show()"
   ]
  },
  {
   "cell_type": "code",
   "execution_count": 67,
   "metadata": {},
   "outputs": [],
   "source": [
    "oyears = [2000, 2010, 2020, 2030, 2050, 2100]\n",
    "mf = open('magnoxisotable.csv', 'w')\n",
    "for year in oyears:\n",
    "    l = [year]\n",
    "    for i in isotopes:\n",
    "        l.append(magnoxmaterials[year][i] / magnoxmaterials[year].mass * 100)\n",
    "    l.append(magnoxmaterials[year].mass)\n",
    "    mf.write(\"{0[0]:d} & {0[1]:2.2f} & {0[2]:2.2f} & {0[3]:2.2f} & {0[4]:2.2f} & {0[5]:2.2f} & {0[6]:2.2f} & {0[7]:2.1f} \\\\\\\\\\n\".format(tuple(l)))\n",
    "mf.close()\n",
    "mf4000 = open('magnox4000isotable.csv', 'w')\n",
    "for year in oyears:\n",
    "    l = [year]\n",
    "    for i in isotopes:\n",
    "        l.append(magnoxmaterials4000[year][i] / magnoxmaterials4000[year].mass * 100)\n",
    "    l.append(magnoxmaterials4000[year].mass)\n",
    "    mf4000.write(\"{0[0]:d} & {0[1]:2.2f} & {0[2]:2.2f} & {0[3]:2.2f} & {0[4]:2.2f} & {0[5]:2.2f} & {0[6]:2.2f} & {0[7]:2.1f} \\\\\\\\\\n\".format(tuple(l)))\n",
    "mf4000.close()"
   ]
  },
  {
   "cell_type": "code",
   "execution_count": 68,
   "metadata": {},
   "outputs": [],
   "source": [
    "oyears = [2000, 2010, 2020, 2030, 2050, 2100]\n",
    "mf = open('agrisotable.csv', 'w')\n",
    "for year in oyears:\n",
    "    l = [year]\n",
    "    for i in isotopes:\n",
    "        l.append(agrmaterials[year][i] / agrmaterials[year].mass * 100)\n",
    "    l.append(agrmaterials[year].mass)\n",
    "    mf.write(\"{0[0]:d} & {0[1]:2.2f} & {0[2]:2.2f} & {0[3]:2.2f} & {0[4]:2.2f} & {0[5]:2.2f} & {0[6]:2.2f} & {0[7]:2.1f} \\\\\\\\\\n\".format(tuple(l)))\n",
    "mf.close()\n",
    "mf4000 = open('agr4000isotable.csv', 'w')\n",
    "for year in oyears:\n",
    "    l = [year]\n",
    "    for i in isotopes:\n",
    "        l.append(agrmaterials4000[year][i] / agrmaterials4000[year].mass * 100)\n",
    "    l.append(agrmaterials4000[year].mass)\n",
    "    mf4000.write(\"{0[0]:d} & {0[1]:2.2f} & {0[2]:2.2f} & {0[3]:2.2f} & {0[4]:2.2f} & {0[5]:2.2f} & {0[6]:2.2f} & {0[7]:2.1f} \\\\\\\\\\n\".format(tuple(l)))\n",
    "mf4000.close()"
   ]
  },
  {
   "cell_type": "markdown",
   "metadata": {},
   "source": [
    "## Some Checks"
   ]
  },
  {
   "cell_type": "markdown",
   "metadata": {},
   "source": [
    "Check if total stockpile in 2016 is as declared according to INFCIRC549 values."
   ]
  },
  {
   "cell_type": "code",
   "execution_count": 69,
   "metadata": {},
   "outputs": [
    {
     "name": "stdout",
     "output_type": "stream",
     "text": [
      "Result for end of 2016:     133500.000000 kg\n",
      "INFCIRC549 for end of 2016: 133500.000000 kg\n"
     ]
    }
   ],
   "source": [
    "i = np.where(cumsp['year'] == 2016)[0][0]\n",
    "res2016 = cumsp['magnox5000'][i] + cumsp['agrfrom5000'][i] + cumsp['ukfromforeign'][i] + cumsp['foreign'][i]\n",
    "inf2016 = infcirc549['repro'][-1] + infcirc549['fabrication'][-1] + infcirc549['inmox'][-1] + infcirc549['elsewhere'][-1]\n",
    "print(\"Result for end of 2016:     {:f} kg\".format(res2016))\n",
    "print(\"INFCIRC549 for end of 2016: {:f} kg\".format(inf2016 * 1000))"
   ]
  },
  {
   "cell_type": "markdown",
   "metadata": {},
   "source": [
    "Check if difference between 5MWd/kg HM and 4MWd/kg HM case match for 2016 (they should) and differ not by far after (allowed, because after 2016 AGR and MAGNOX are independently calculated)"
   ]
  },
  {
   "cell_type": "code",
   "execution_count": 70,
   "metadata": {},
   "outputs": [
    {
     "name": "stdout",
     "output_type": "stream",
     "text": [
      "(2016, 4299.175815376817, -4299.175815376861)\n",
      "(2017, 4475.182069869174, -4499.161578781954)\n",
      "(2018, 4651.18832436153, -4699.147342187047)\n",
      "(2019, 4827.194578853887, -4699.147342187047)\n",
      "(2020, 5003.200833346244, -4699.147342187047)\n"
     ]
    }
   ],
   "source": [
    "for y in range(2016,2021):\n",
    "    yearidx = np.where(cumsp['year'] == y)[0][0]\n",
    "    mdif = sum(difsp['magnox5000'][:yearidx+1]) - sum(difsp['magnox4000'][:yearidx+1])\n",
    "    adif = sum(difsp['agrfrom5000'][:yearidx+1]) - sum(difsp['agrfrom4000'][:yearidx+1])\n",
    "    print(y, mdif, adif)"
   ]
  }
 ],
 "metadata": {
  "celltoolbar": "Raw Cell Format",
  "kernelspec": {
   "display_name": "Python 2",
   "language": "python",
   "name": "python2"
  },
  "language_info": {
   "codemirror_mode": {
    "name": "ipython",
    "version": 2
   },
   "file_extension": ".py",
   "mimetype": "text/x-python",
   "name": "python",
   "nbconvert_exporter": "python",
   "pygments_lexer": "ipython2",
   "version": "2.7.16"
  }
 },
 "nbformat": 4,
 "nbformat_minor": 2
}
